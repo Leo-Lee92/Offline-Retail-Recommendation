{
 "metadata": {
  "language_info": {
   "codemirror_mode": {
    "name": "ipython",
    "version": 3
   },
   "file_extension": ".py",
   "mimetype": "text/x-python",
   "name": "python",
   "nbconvert_exporter": "python",
   "pygments_lexer": "ipython3",
   "version": "3.7.9-final"
  },
  "orig_nbformat": 2,
  "kernelspec": {
   "name": "python3",
   "display_name": "Python 3.7.9 64-bit ('jk_lab': conda)",
   "metadata": {
    "interpreter": {
     "hash": "c70c85ceae9ec306625909fa23946af02e638c8063a7c5d11c764988a66b2d5d"
    }
   }
  }
 },
 "nbformat": 4,
 "nbformat_minor": 2,
 "cells": [
  {
   "cell_type": "code",
   "execution_count": 1,
   "metadata": {},
   "outputs": [],
   "source": [
    "import pandas as pd \n",
    "import numpy as np \n",
    "import math\n",
    "import pandas as pd\n",
    "import sys\n",
    "from apyori import apriori\n",
    "from tqdm import tqdm\n",
    "from mlxtend.frequent_patterns import apriori, association_rules\n",
    "from mlxtend.preprocessing import TransactionEncoder"
   ]
  },
  {
   "cell_type": "code",
   "execution_count": 2,
   "metadata": {},
   "outputs": [],
   "source": [
    "class Error(Exception):\n",
    "    def __str__(self):\n",
    "        return \"허용되지 않는 행동입니다.\""
   ]
  },
  {
   "cell_type": "code",
   "execution_count": 3,
   "metadata": {},
   "outputs": [
    {
     "output_type": "stream",
     "name": "stdout",
     "text": [
      "/home/shinjk1156/Project_code/Retail_Project/Code\n"
     ]
    }
   ],
   "source": [
    "print(sys.path[0])"
   ]
  },
  {
   "source": [
    "### Setting Grid World"
   ],
   "cell_type": "markdown",
   "metadata": {}
  },
  {
   "cell_type": "code",
   "execution_count": 4,
   "metadata": {},
   "outputs": [],
   "source": [
    "df = pd.read_excel('/home/shinjk1156/Project_code/Retail_Project/Data/RFID_IPS_데이터추출_20200904.xlsx', sheet_name= None)"
   ]
  },
  {
   "cell_type": "code",
   "execution_count": 5,
   "metadata": {},
   "outputs": [],
   "source": [
    "grid_dic = {\"청과\" : [(0,1),(0,2),(0,3),(0,4)], \"곡물\" : [(1,1),(1,2),(1,3),(1,4)], \"입구\" : [(0,0)], \n",
    "            \"채소\" : [(0,5),(0,6),(0,7),(1,5),(1,6),(1,7)], \"닭고기\" : [(0,8)], \"수산\" : [(0,9), (1,8), (1,9)], \"축산\" : [(0,10), (1,10)], \n",
    "            \"델리카\" : [(0,11), (1,11)], \"계산대\" : [(1,0),(2,0),(3,0),(4,0)], \"청소욕실\" : [(2,5),(2,6),(3,5),(3,6)],\n",
    "            \"주방용품\" : [(2,7),(3,7)], \"언더웨어\" : [(4,5), (4,6)], \"H&B\" : [(2,1),(2,2),(2,3),(2,4), (3,1),(3,2),(3,3),(3,4), (4,1),(4,2),(4,3),(4,4)],\n",
    "            \"건강,차\" : [(4,7)], \"조미식품\" : [(2,8), (2,9)], \"인스턴트\" : [(3,8), (3,9)], \"과자\" : [(4,8), (4,9)], \n",
    "            \"냉장냉동\" : [(2,10), (2,11)], \"데일리\" : [(3,10), (3,11)], \"음료,주류\" : [(4,10),(4,11)],\n",
    "            \"스포츠\" : [(5,1)], \"문구\" : [(5,2)], \"완구\" : [(5,3)], \"자동차\" : [(5,4)], \"애완원예용품\" : [(5,5)], \"인테리어\" : [(5,6)],\n",
    "            \"수예\" : [(5,7)], \"세제\" : [(5,8)], \"위생용품\" : [(5,9)], \"금지구역\" : [(5,10),(5,11),(5,0)]}"
   ]
  },
  {
   "cell_type": "code",
   "execution_count": 6,
   "metadata": {},
   "outputs": [],
   "source": [
    "class Agent:\n",
    "    def __init__(self, initial_position):\n",
    "        self.action_space = np.array([(0,0), (-1,0), (1,0), (0,-1), (0,1)])\n",
    "        self.action_pr = np.array([0.20,0.20,0.20,0.20,0.20])\n",
    "        self.pos = np.array(initial_position)\n",
    "\n",
    "    def set_pos(self, position):\n",
    "        self.pos = position\n",
    "        return self.pos\n",
    "\n",
    "    def get_pos(self):\n",
    "        return self.pos"
   ]
  },
  {
   "cell_type": "code",
   "execution_count": 7,
   "metadata": {},
   "outputs": [],
   "source": [
    "class Env:\n",
    "    # action space = [(0,0)), (-1,0)), (1,0)), (0,-1)), (0,1)]\n",
    "    def __init__(self, grid_dic):\n",
    "        self.grid_dic = grid_dic\n",
    "        self.grid_world = self.make_grid_world()\n",
    "\n",
    "    def make_grid_world(self):\n",
    "        grid_world = pd.DataFrame(np.zeros((6,12)))\n",
    "        for key in self.grid_dic.keys():\n",
    "            for x,y in self.grid_dic[key]:\n",
    "                grid_world.iloc[x,y] = key\n",
    "        return grid_world\n",
    "\n",
    "    def move(self, agent, action):\n",
    "        terminal = False\n",
    "        reward = 0\n",
    "        #현재 좌표\n",
    "        current_pos = agent.pos\n",
    "        #현재 좌표에 대응되는 현재 매대\n",
    "        cur_key = self.grid_world.iloc[current_pos[0], current_pos[1]]\n",
    "        #이동된 좌표\n",
    "        try: next_pos = agent.pos + agent.action_space[action] #아직은 전이확률을 고려하지 않음\n",
    "        except: raise Error()\n",
    "        #이동된 좌표에 대응되는 다음 매대\n",
    "        try: next_key = self.grid_world.iloc[next_pos[0], next_pos[1]]\n",
    "        except: next_key = \"금지구역\"\n",
    "\n",
    "        #매대간 이동이 존재하는대도 만약 cur_key와 next_key가 같을 시,(이동이 발생했는대도 그리드월드 설계문제로 인해 매대 이동이 발생하지 못함)\n",
    "        #이 때 이동좌표를 변경시켜줌\n",
    "        if action != 0:\n",
    "            if cur_key == next_key:\n",
    "                temp = np.array(self.grid_dic[next_key])\n",
    "                if action == 1: next_pos[0] = min(temp.T[0]) - 1\n",
    "                elif action == 2: next_pos[0] = max(temp.T[0]) + 1\n",
    "                elif action == 3: next_pos[1] = min(temp.T[1]) - 1\n",
    "                elif action == 4: next_pos[1] = max(temp.T[1]) + 1\n",
    "                else: raise Error()\n",
    "        #현재 좌표가 최종목적지인지 확인\n",
    "        if self.grid_world.iloc[current_pos[0], current_pos[1]] == \"계산대\":\n",
    "            terminal = True\n",
    "            show_next_pos = agent.set_pos(agent.pos)\n",
    "            #reward = 0\n",
    "\n",
    "        #이동된 좌표가 이동 불가능한 지점인지 확인\n",
    "        elif next_key == \"금지구역\" or tuple(next_pos) in self.grid_dic[\"금지구역\"] or next_pos[0] < 0 or next_pos[1] < 0:\n",
    "            terminal = True\n",
    "            show_next_pos = agent.set_pos(agent.pos)\n",
    "            #reward = 0\n",
    "\n",
    "        #이동가능한 동선이면 '이동':\n",
    "        else:\n",
    "            show_next_pos = agent.set_pos(next_pos)\n",
    "        \n",
    "        return show_next_pos, reward, terminal\n",
    "\n"
   ]
  },
  {
   "cell_type": "code",
   "execution_count": 8,
   "metadata": {},
   "outputs": [
    {
     "output_type": "stream",
     "name": "stdout",
     "text": [
      "(array([1, 5]), 0, False)\n"
     ]
    },
    {
     "output_type": "execute_result",
     "data": {
      "text/plain": [
       "array([1, 5])"
      ]
     },
     "metadata": {},
     "execution_count": 8
    }
   ],
   "source": [
    "agent = Agent((1,1)) \n",
    "env = Env(grid_dic)\n",
    "print(env.move(agent, 4))\n",
    "agent.get_pos()"
   ]
  },
  {
   "cell_type": "code",
   "execution_count": 9,
   "metadata": {},
   "outputs": [
    {
     "output_type": "execute_result",
     "data": {
      "text/plain": [
       "     0    1    2    3    4       5     6     7     8     9      10     11\n",
       "0    입구   청과   청과   청과   청과      채소    채소    채소   닭고기    수산     축산    델리카\n",
       "1   계산대   곡물   곡물   곡물   곡물      채소    채소    채소    수산    수산     축산    델리카\n",
       "2   계산대  H&B  H&B  H&B  H&B    청소욕실  청소욕실  주방용품  조미식품  조미식품   냉장냉동   냉장냉동\n",
       "3   계산대  H&B  H&B  H&B  H&B    청소욕실  청소욕실  주방용품  인스턴트  인스턴트    데일리    데일리\n",
       "4   계산대  H&B  H&B  H&B  H&B    언더웨어  언더웨어  건강,차    과자    과자  음료,주류  음료,주류\n",
       "5  금지구역  스포츠   문구   완구  자동차  애완원예용품  인테리어    수예    세제  위생용품   금지구역   금지구역"
      ],
      "text/html": "<div>\n<style scoped>\n    .dataframe tbody tr th:only-of-type {\n        vertical-align: middle;\n    }\n\n    .dataframe tbody tr th {\n        vertical-align: top;\n    }\n\n    .dataframe thead th {\n        text-align: right;\n    }\n</style>\n<table border=\"1\" class=\"dataframe\">\n  <thead>\n    <tr style=\"text-align: right;\">\n      <th></th>\n      <th>0</th>\n      <th>1</th>\n      <th>2</th>\n      <th>3</th>\n      <th>4</th>\n      <th>5</th>\n      <th>6</th>\n      <th>7</th>\n      <th>8</th>\n      <th>9</th>\n      <th>10</th>\n      <th>11</th>\n    </tr>\n  </thead>\n  <tbody>\n    <tr>\n      <th>0</th>\n      <td>입구</td>\n      <td>청과</td>\n      <td>청과</td>\n      <td>청과</td>\n      <td>청과</td>\n      <td>채소</td>\n      <td>채소</td>\n      <td>채소</td>\n      <td>닭고기</td>\n      <td>수산</td>\n      <td>축산</td>\n      <td>델리카</td>\n    </tr>\n    <tr>\n      <th>1</th>\n      <td>계산대</td>\n      <td>곡물</td>\n      <td>곡물</td>\n      <td>곡물</td>\n      <td>곡물</td>\n      <td>채소</td>\n      <td>채소</td>\n      <td>채소</td>\n      <td>수산</td>\n      <td>수산</td>\n      <td>축산</td>\n      <td>델리카</td>\n    </tr>\n    <tr>\n      <th>2</th>\n      <td>계산대</td>\n      <td>H&amp;B</td>\n      <td>H&amp;B</td>\n      <td>H&amp;B</td>\n      <td>H&amp;B</td>\n      <td>청소욕실</td>\n      <td>청소욕실</td>\n      <td>주방용품</td>\n      <td>조미식품</td>\n      <td>조미식품</td>\n      <td>냉장냉동</td>\n      <td>냉장냉동</td>\n    </tr>\n    <tr>\n      <th>3</th>\n      <td>계산대</td>\n      <td>H&amp;B</td>\n      <td>H&amp;B</td>\n      <td>H&amp;B</td>\n      <td>H&amp;B</td>\n      <td>청소욕실</td>\n      <td>청소욕실</td>\n      <td>주방용품</td>\n      <td>인스턴트</td>\n      <td>인스턴트</td>\n      <td>데일리</td>\n      <td>데일리</td>\n    </tr>\n    <tr>\n      <th>4</th>\n      <td>계산대</td>\n      <td>H&amp;B</td>\n      <td>H&amp;B</td>\n      <td>H&amp;B</td>\n      <td>H&amp;B</td>\n      <td>언더웨어</td>\n      <td>언더웨어</td>\n      <td>건강,차</td>\n      <td>과자</td>\n      <td>과자</td>\n      <td>음료,주류</td>\n      <td>음료,주류</td>\n    </tr>\n    <tr>\n      <th>5</th>\n      <td>금지구역</td>\n      <td>스포츠</td>\n      <td>문구</td>\n      <td>완구</td>\n      <td>자동차</td>\n      <td>애완원예용품</td>\n      <td>인테리어</td>\n      <td>수예</td>\n      <td>세제</td>\n      <td>위생용품</td>\n      <td>금지구역</td>\n      <td>금지구역</td>\n    </tr>\n  </tbody>\n</table>\n</div>"
     },
     "metadata": {},
     "execution_count": 9
    }
   ],
   "source": [
    "env.grid_world"
   ]
  },
  {
   "source": [
    "### Association Rule Mining"
   ],
   "cell_type": "markdown",
   "metadata": {}
  },
  {
   "cell_type": "code",
   "execution_count": 28,
   "metadata": {},
   "outputs": [],
   "source": [
    "pos_detail = df['POS_DETAIL']\n",
    "pog_cate = df[\"POG-카테고리\"]\n",
    "pog = df[\"POG\"]\n",
    "info_item = df[\"상품정보\"]\n",
    "info_cate = df['상품-카테고리']"
   ]
  },
  {
   "cell_type": "code",
   "execution_count": 29,
   "metadata": {},
   "outputs": [],
   "source": [
    "pog_df = pd.merge(pog_cate, pog, on = \"POG 그룹 ID\", how = \"left\")\n",
    "pog_df.rename(columns = {\"DIVISION\" : \"DIV_CD\", \"DEPT\" : \"DEPT_CD\", \"POG 이름_x\" : \"POG 이름\", \"POG 이름_y\":\"POG 그룹 이름\"}, inplace = True)\n",
    "pog_df.drop(index = 0, inplace = True)\n",
    "pog_df.drop(columns = [\"사용 유무\", \"POG 그룹 ID\", \"POG ID\",\"POG 이름\"], inplace = True)\n",
    "pog_df.drop_duplicates(inplace = True)"
   ]
  },
  {
   "cell_type": "code",
   "execution_count": 30,
   "metadata": {},
   "outputs": [],
   "source": [
    "#info_item.drop(index = 0, inplace = True)\n",
    "info_item.rename(columns = {\"DIVISION CODE\":\"DIV_CD\", \"DEPT CODE\" : \"DEPT_CD\", \"SECTION CODE\" : \"SECTION_CD\", \"CLASS CODE\" : \"CLASS_CD\"}, inplace= True)\n",
    "info_df = pd.merge(info_item, info_cate, on = [\"DIV_CD\", \"DEPT_CD\", \"SECTION_CD\", \"CLASS_CD\"], how = \"left\")\n",
    "info_df.drop(columns= [\"바코드번호\", \"판매 가격\"], inplace= True)\n",
    "pog_in_df = pd.merge(info_df, pog_df, on = [\"DIV_CD\", \"DEPT_CD\"], how = \"left\")\n",
    "item_df = pd.merge(pos_detail.loc[:,[\"쇼핑 ID\", \"자체상품코드\"]], pog_in_df, on = \"자체상품코드\", how = \"left\")\n",
    "item_df.rename(columns= {\"DIVISION CODE\" : \"DIVISION\", \"DEPT CODE\" : \"DEPT\"}, inplace = True)\n",
    "item_df.drop(index= 0, inplace = True)\n",
    "item_df.drop_duplicates(inplace = True)\n",
    "item_df.reset_index(drop= True, inplace = True)"
   ]
  },
  {
   "cell_type": "code",
   "execution_count": 31,
   "metadata": {},
   "outputs": [
    {
     "output_type": "execute_result",
     "data": {
      "text/plain": [
       "        쇼핑 ID      자체상품코드             상품명 DIV_CD DEPT_CD SECTION_CD CLASS_CD  \\\n",
       "0           1  1355218000    ●동원 참치세트 16호     27     185       1617    11400   \n",
       "1           1  0002960000             피홍합     20     154       1452    13770   \n",
       "2           1  1289860000   다이소2000원균일가제품     35     782       7238    67347   \n",
       "3           1  1260181000     와이즐렉 네임펜흑3입     39     256       1849    12020   \n",
       "4           1  1248045000   와이즐렉스테플러10호세트     39     258       1860    12072   \n",
       "...       ...         ...             ...    ...     ...        ...      ...   \n",
       "356082  26043  1480971000  풀)국산 더단단한 부침두부     19     146       7250    67537   \n",
       "356083  26043  1494164000  아침의 계란(왕란/15입)     72     805       7378    67992   \n",
       "356084  26045  0008750000         친환경 쌈채소     19     149       1391    10624   \n",
       "356085  26045  0030732000            바지락살     20     154       1453    10751   \n",
       "356086  26045  0033620000     왕딸기(1KG/박스)     17     132       1271    10335   \n",
       "\n",
       "       DIV_NAME DEPT_NAME SECTION_NAME  \\\n",
       "0          인스턴트      선물세트      통조림선물세트   \n",
       "1            생선     해물연체류          각패류   \n",
       "2          주방용품  주방시즌/균일가        주방균일가   \n",
       "3            문구      필기도구            펜   \n",
       "4            문구    일반사무용품         OA용품   \n",
       "...         ...       ...          ...   \n",
       "356082       채소        두부        풀무원두부   \n",
       "356083      닭고기        계란          일반란   \n",
       "356084       채소     친환경채소       친환경쌈채류   \n",
       "356085       생선     해물연체류          살패류   \n",
       "356086       과일      국산과일           딸기   \n",
       "\n",
       "                                              CLASS_NAME POG 그룹 이름  \n",
       "0                참치통조림혼합선물세트                                   NaN  \n",
       "1       홍합                                                     NaN  \n",
       "2            주방용품균일가                                           NaN  \n",
       "3         유성매직                                                  문구  \n",
       "4         스테플러                                                  문구  \n",
       "...                                                  ...       ...  \n",
       "356082       풀무원포장두부                                           채소2  \n",
       "356083    소포장란                                                 닭고기  \n",
       "356084      친환경쌈채류                                             채소2  \n",
       "356085    바지락살                                                 NaN  \n",
       "356086    박스딸기                                                 NaN  \n",
       "\n",
       "[356087 rows x 12 columns]"
      ],
      "text/html": "<div>\n<style scoped>\n    .dataframe tbody tr th:only-of-type {\n        vertical-align: middle;\n    }\n\n    .dataframe tbody tr th {\n        vertical-align: top;\n    }\n\n    .dataframe thead th {\n        text-align: right;\n    }\n</style>\n<table border=\"1\" class=\"dataframe\">\n  <thead>\n    <tr style=\"text-align: right;\">\n      <th></th>\n      <th>쇼핑 ID</th>\n      <th>자체상품코드</th>\n      <th>상품명</th>\n      <th>DIV_CD</th>\n      <th>DEPT_CD</th>\n      <th>SECTION_CD</th>\n      <th>CLASS_CD</th>\n      <th>DIV_NAME</th>\n      <th>DEPT_NAME</th>\n      <th>SECTION_NAME</th>\n      <th>CLASS_NAME</th>\n      <th>POG 그룹 이름</th>\n    </tr>\n  </thead>\n  <tbody>\n    <tr>\n      <th>0</th>\n      <td>1</td>\n      <td>1355218000</td>\n      <td>●동원 참치세트 16호</td>\n      <td>27</td>\n      <td>185</td>\n      <td>1617</td>\n      <td>11400</td>\n      <td>인스턴트</td>\n      <td>선물세트</td>\n      <td>통조림선물세트</td>\n      <td>참치통조림혼합선물세트</td>\n      <td>NaN</td>\n    </tr>\n    <tr>\n      <th>1</th>\n      <td>1</td>\n      <td>0002960000</td>\n      <td>피홍합</td>\n      <td>20</td>\n      <td>154</td>\n      <td>1452</td>\n      <td>13770</td>\n      <td>생선</td>\n      <td>해물연체류</td>\n      <td>각패류</td>\n      <td>홍합</td>\n      <td>NaN</td>\n    </tr>\n    <tr>\n      <th>2</th>\n      <td>1</td>\n      <td>1289860000</td>\n      <td>다이소2000원균일가제품</td>\n      <td>35</td>\n      <td>782</td>\n      <td>7238</td>\n      <td>67347</td>\n      <td>주방용품</td>\n      <td>주방시즌/균일가</td>\n      <td>주방균일가</td>\n      <td>주방용품균일가</td>\n      <td>NaN</td>\n    </tr>\n    <tr>\n      <th>3</th>\n      <td>1</td>\n      <td>1260181000</td>\n      <td>와이즐렉 네임펜흑3입</td>\n      <td>39</td>\n      <td>256</td>\n      <td>1849</td>\n      <td>12020</td>\n      <td>문구</td>\n      <td>필기도구</td>\n      <td>펜</td>\n      <td>유성매직</td>\n      <td>문구</td>\n    </tr>\n    <tr>\n      <th>4</th>\n      <td>1</td>\n      <td>1248045000</td>\n      <td>와이즐렉스테플러10호세트</td>\n      <td>39</td>\n      <td>258</td>\n      <td>1860</td>\n      <td>12072</td>\n      <td>문구</td>\n      <td>일반사무용품</td>\n      <td>OA용품</td>\n      <td>스테플러</td>\n      <td>문구</td>\n    </tr>\n    <tr>\n      <th>...</th>\n      <td>...</td>\n      <td>...</td>\n      <td>...</td>\n      <td>...</td>\n      <td>...</td>\n      <td>...</td>\n      <td>...</td>\n      <td>...</td>\n      <td>...</td>\n      <td>...</td>\n      <td>...</td>\n      <td>...</td>\n    </tr>\n    <tr>\n      <th>356082</th>\n      <td>26043</td>\n      <td>1480971000</td>\n      <td>풀)국산 더단단한 부침두부</td>\n      <td>19</td>\n      <td>146</td>\n      <td>7250</td>\n      <td>67537</td>\n      <td>채소</td>\n      <td>두부</td>\n      <td>풀무원두부</td>\n      <td>풀무원포장두부</td>\n      <td>채소2</td>\n    </tr>\n    <tr>\n      <th>356083</th>\n      <td>26043</td>\n      <td>1494164000</td>\n      <td>아침의 계란(왕란/15입)</td>\n      <td>72</td>\n      <td>805</td>\n      <td>7378</td>\n      <td>67992</td>\n      <td>닭고기</td>\n      <td>계란</td>\n      <td>일반란</td>\n      <td>소포장란</td>\n      <td>닭고기</td>\n    </tr>\n    <tr>\n      <th>356084</th>\n      <td>26045</td>\n      <td>0008750000</td>\n      <td>친환경 쌈채소</td>\n      <td>19</td>\n      <td>149</td>\n      <td>1391</td>\n      <td>10624</td>\n      <td>채소</td>\n      <td>친환경채소</td>\n      <td>친환경쌈채류</td>\n      <td>친환경쌈채류</td>\n      <td>채소2</td>\n    </tr>\n    <tr>\n      <th>356085</th>\n      <td>26045</td>\n      <td>0030732000</td>\n      <td>바지락살</td>\n      <td>20</td>\n      <td>154</td>\n      <td>1453</td>\n      <td>10751</td>\n      <td>생선</td>\n      <td>해물연체류</td>\n      <td>살패류</td>\n      <td>바지락살</td>\n      <td>NaN</td>\n    </tr>\n    <tr>\n      <th>356086</th>\n      <td>26045</td>\n      <td>0033620000</td>\n      <td>왕딸기(1KG/박스)</td>\n      <td>17</td>\n      <td>132</td>\n      <td>1271</td>\n      <td>10335</td>\n      <td>과일</td>\n      <td>국산과일</td>\n      <td>딸기</td>\n      <td>박스딸기</td>\n      <td>NaN</td>\n    </tr>\n  </tbody>\n</table>\n<p>356087 rows × 12 columns</p>\n</div>"
     },
     "metadata": {},
     "execution_count": 31
    }
   ],
   "source": [
    "item_df"
   ]
  },
  {
   "cell_type": "code",
   "execution_count": 32,
   "metadata": {},
   "outputs": [],
   "source": [
    "#DIV_NAME들을 구분하여 GW카테고리에 맞춰 새로운 칼럼생성\n",
    "gw_list = []\n",
    "for i in range(len(item_df)):\n",
    "    name = item_df.loc[i, \"DIV_NAME\"]\n",
    "    if name == \"과일\":\n",
    "        gw_list.append(\"청과\")\n",
    "    elif name in [\"생선\",\"건해산물\"]:\n",
    "        gw_list.append(\"수산\")\n",
    "    elif name in [\"돼지고기\" ,\"소고기\"]:\n",
    "        gw_list.append(\"축산\")\n",
    "    elif name == \"조리식품\":\n",
    "        gw_list.append(\"델리카\")\n",
    "    elif name in [\"H&B\", \"섬유잡화\", \"장신잡화\", \"남성의류편집\", \"피혁잡화\", \"신발\", \"아동유아편집\"]:\n",
    "        gw_list.append(\"H&B\")\n",
    "    elif name in [\"음료\", \"주류\"]:\n",
    "        gw_list.append(\"음료,주류\")\n",
    "    elif name in [\"일반스포츠\", \"레져스포츠\", \"스포츠NB\"]:\n",
    "        gw_list.append(\"스포츠\")\n",
    "    else:\n",
    "        gw_list.append(name)\n",
    "item_df[\"GW_Cate\"] = gw_list\n",
    "item_df.drop(columns = [\"POG 그룹 이름\", \"DEPT_NAME\",\"SECTION_NAME\", \"CLASS_NAME\"], inplace= True)\n",
    "item_df.drop_duplicates(inplace = True)\n",
    "item_df.dropna(inplace = True)\n",
    "item_df.reset_index(drop = True, inplace= True)"
   ]
  },
  {
   "cell_type": "code",
   "execution_count": 33,
   "metadata": {},
   "outputs": [
    {
     "output_type": "stream",
     "name": "stderr",
     "text": [
      "100%|██████████| 13864/13864 [02:14<00:00, 102.79it/s]\n"
     ]
    }
   ],
   "source": [
    "shid_list = item_df[\"쇼핑 ID\"].unique()\n",
    "transaction_list = []\n",
    "for s_id in tqdm(shid_list, desc = \"Create Transaction_list\"):\n",
    "    transaction_list.append(list(item_df[item_df[\"쇼핑 ID\"] == s_id].GW_Cate.unique()))\n"
   ]
  },
  {
   "cell_type": "code",
   "execution_count": 34,
   "metadata": {},
   "outputs": [],
   "source": [
    "t_encoder = TransactionEncoder()\n",
    "t_array = t_encoder.fit(transaction_list).transform(transaction_list)\n",
    "t_df = pd.DataFrame(t_array, columns= t_encoder.columns_)"
   ]
  },
  {
   "cell_type": "code",
   "execution_count": 53,
   "metadata": {},
   "outputs": [
    {
     "output_type": "execute_result",
     "data": {
      "text/plain": [
       "      support                    itemsets\n",
       "0    0.707372                        (채소)\n",
       "1    0.569749                       (데일리)\n",
       "2    0.462709                        (청과)\n",
       "3    0.452178                        (수산)\n",
       "4    0.419432                   (데일리, 채소)\n",
       "..        ...                         ...\n",
       "693  0.050202        (인스턴트, 수산, 주방용품, 채소)\n",
       "694  0.050130    (인스턴트, 데일리, 델리카, 채소, 청과)\n",
       "695  0.050058           (청소욕실, 데일리, 냉장냉동)\n",
       "696  0.050058           (인스턴트, H&B, 냉장냉동)\n",
       "697  0.050058  (냉장냉동, 인스턴트, 델리카, 채소, 데일리)\n",
       "\n",
       "[698 rows x 2 columns]"
      ],
      "text/html": "<div>\n<style scoped>\n    .dataframe tbody tr th:only-of-type {\n        vertical-align: middle;\n    }\n\n    .dataframe tbody tr th {\n        vertical-align: top;\n    }\n\n    .dataframe thead th {\n        text-align: right;\n    }\n</style>\n<table border=\"1\" class=\"dataframe\">\n  <thead>\n    <tr style=\"text-align: right;\">\n      <th></th>\n      <th>support</th>\n      <th>itemsets</th>\n    </tr>\n  </thead>\n  <tbody>\n    <tr>\n      <th>0</th>\n      <td>0.707372</td>\n      <td>(채소)</td>\n    </tr>\n    <tr>\n      <th>1</th>\n      <td>0.569749</td>\n      <td>(데일리)</td>\n    </tr>\n    <tr>\n      <th>2</th>\n      <td>0.462709</td>\n      <td>(청과)</td>\n    </tr>\n    <tr>\n      <th>3</th>\n      <td>0.452178</td>\n      <td>(수산)</td>\n    </tr>\n    <tr>\n      <th>4</th>\n      <td>0.419432</td>\n      <td>(데일리, 채소)</td>\n    </tr>\n    <tr>\n      <th>...</th>\n      <td>...</td>\n      <td>...</td>\n    </tr>\n    <tr>\n      <th>693</th>\n      <td>0.050202</td>\n      <td>(인스턴트, 수산, 주방용품, 채소)</td>\n    </tr>\n    <tr>\n      <th>694</th>\n      <td>0.050130</td>\n      <td>(인스턴트, 데일리, 델리카, 채소, 청과)</td>\n    </tr>\n    <tr>\n      <th>695</th>\n      <td>0.050058</td>\n      <td>(청소욕실, 데일리, 냉장냉동)</td>\n    </tr>\n    <tr>\n      <th>696</th>\n      <td>0.050058</td>\n      <td>(인스턴트, H&amp;B, 냉장냉동)</td>\n    </tr>\n    <tr>\n      <th>697</th>\n      <td>0.050058</td>\n      <td>(냉장냉동, 인스턴트, 델리카, 채소, 데일리)</td>\n    </tr>\n  </tbody>\n</table>\n<p>698 rows × 2 columns</p>\n</div>"
     },
     "metadata": {},
     "execution_count": 53
    }
   ],
   "source": [
    "fre_itemset = apriori(t_df, min_support= 0.05, use_colnames= True)\n",
    "fre_itemset.sort_values(by = \"support\", ascending = False, inplace = True)\n",
    "fre_itemset.reset_index(drop = True, inplace= True)\n",
    "fre_itemset"
   ]
  },
  {
   "cell_type": "code",
   "execution_count": 61,
   "metadata": {},
   "outputs": [],
   "source": [
    "import csv"
   ]
  },
  {
   "cell_type": "code",
   "execution_count": 63,
   "metadata": {},
   "outputs": [],
   "source": [
    "with open(\"..rules.csv\", 'w', newline = '') as file:\n",
    "    writer = csv.writer(file)\n",
    "    writer.writerows(item_list)"
   ]
  },
  {
   "cell_type": "code",
   "execution_count": 59,
   "metadata": {},
   "outputs": [],
   "source": [
    "min_num_items = 5\n",
    "num_collect = 10\n",
    "i = 0\n",
    "count = 0\n",
    "item_list=[]\n",
    "while(True):\n",
    "    if count == num_collect:\n",
    "        break\n",
    "    if len(fre_itemset.itemsets[i]) >= min_num_items:\n",
    "        count += 1\n",
    "        item_list.append(list(fre_itemset.itemsets[i]))\n",
    "    i+=1\n",
    "\n",
    "return item_list\n"
   ]
  },
  {
   "cell_type": "code",
   "execution_count": 37,
   "metadata": {},
   "outputs": [
    {
     "output_type": "execute_result",
     "data": {
      "text/plain": [
       "          antecedents      consequents  antecedent support  \\\n",
       "0               (H&B)             (과자)            0.196336   \n",
       "1               (H&B)           (냉장냉동)            0.196336   \n",
       "2               (H&B)            (닭고기)            0.196336   \n",
       "3               (H&B)            (데일리)            0.196336   \n",
       "4               (H&B)            (델리카)            0.196336   \n",
       "...               ...              ...                 ...   \n",
       "3499  (조미식품, 데일리, 채소)       (인스턴트, 청과)            0.147144   \n",
       "3500  (조미식품, 청과, 데일리)       (인스턴트, 채소)            0.101125   \n",
       "3501   (조미식품, 청과, 채소)      (인스턴트, 데일리)            0.128318   \n",
       "3502     (인스턴트, 조미식품)    (청과, 데일리, 채소)            0.162074   \n",
       "3503       (조미식품, 청과)  (인스턴트, 데일리, 채소)            0.148514   \n",
       "\n",
       "      consequent support   support  confidence      lift  leverage  conviction  \n",
       "0               0.418782  0.098745    0.502939  1.200955  0.016523    1.169308  \n",
       "1               0.383078  0.086267    0.439383  1.146979  0.011055    1.100433  \n",
       "2               0.261829  0.059290    0.301984  1.153362  0.007884    1.057527  \n",
       "3               0.569749  0.126010    0.641807  1.126474  0.014148    1.201173  \n",
       "4               0.333309  0.070326    0.358193  1.074655  0.004885    1.038771  \n",
       "...                  ...       ...         ...       ...       ...         ...  \n",
       "3499            0.192297  0.055251    0.375490  1.952662  0.026956    1.293340  \n",
       "3500            0.291474  0.055251    0.546362  1.874478  0.025776    1.561876  \n",
       "3501            0.264786  0.055251    0.430579  1.626136  0.021274    1.291160  \n",
       "3502            0.240118  0.055251    0.340899  1.419713  0.016334    1.152906  \n",
       "3503            0.202467  0.055251    0.372025  1.837463  0.025182    1.270008  \n",
       "\n",
       "[3504 rows x 9 columns]"
      ],
      "text/html": "<div>\n<style scoped>\n    .dataframe tbody tr th:only-of-type {\n        vertical-align: middle;\n    }\n\n    .dataframe tbody tr th {\n        vertical-align: top;\n    }\n\n    .dataframe thead th {\n        text-align: right;\n    }\n</style>\n<table border=\"1\" class=\"dataframe\">\n  <thead>\n    <tr style=\"text-align: right;\">\n      <th></th>\n      <th>antecedents</th>\n      <th>consequents</th>\n      <th>antecedent support</th>\n      <th>consequent support</th>\n      <th>support</th>\n      <th>confidence</th>\n      <th>lift</th>\n      <th>leverage</th>\n      <th>conviction</th>\n    </tr>\n  </thead>\n  <tbody>\n    <tr>\n      <th>0</th>\n      <td>(H&amp;B)</td>\n      <td>(과자)</td>\n      <td>0.196336</td>\n      <td>0.418782</td>\n      <td>0.098745</td>\n      <td>0.502939</td>\n      <td>1.200955</td>\n      <td>0.016523</td>\n      <td>1.169308</td>\n    </tr>\n    <tr>\n      <th>1</th>\n      <td>(H&amp;B)</td>\n      <td>(냉장냉동)</td>\n      <td>0.196336</td>\n      <td>0.383078</td>\n      <td>0.086267</td>\n      <td>0.439383</td>\n      <td>1.146979</td>\n      <td>0.011055</td>\n      <td>1.100433</td>\n    </tr>\n    <tr>\n      <th>2</th>\n      <td>(H&amp;B)</td>\n      <td>(닭고기)</td>\n      <td>0.196336</td>\n      <td>0.261829</td>\n      <td>0.059290</td>\n      <td>0.301984</td>\n      <td>1.153362</td>\n      <td>0.007884</td>\n      <td>1.057527</td>\n    </tr>\n    <tr>\n      <th>3</th>\n      <td>(H&amp;B)</td>\n      <td>(데일리)</td>\n      <td>0.196336</td>\n      <td>0.569749</td>\n      <td>0.126010</td>\n      <td>0.641807</td>\n      <td>1.126474</td>\n      <td>0.014148</td>\n      <td>1.201173</td>\n    </tr>\n    <tr>\n      <th>4</th>\n      <td>(H&amp;B)</td>\n      <td>(델리카)</td>\n      <td>0.196336</td>\n      <td>0.333309</td>\n      <td>0.070326</td>\n      <td>0.358193</td>\n      <td>1.074655</td>\n      <td>0.004885</td>\n      <td>1.038771</td>\n    </tr>\n    <tr>\n      <th>...</th>\n      <td>...</td>\n      <td>...</td>\n      <td>...</td>\n      <td>...</td>\n      <td>...</td>\n      <td>...</td>\n      <td>...</td>\n      <td>...</td>\n      <td>...</td>\n    </tr>\n    <tr>\n      <th>3499</th>\n      <td>(조미식품, 데일리, 채소)</td>\n      <td>(인스턴트, 청과)</td>\n      <td>0.147144</td>\n      <td>0.192297</td>\n      <td>0.055251</td>\n      <td>0.375490</td>\n      <td>1.952662</td>\n      <td>0.026956</td>\n      <td>1.293340</td>\n    </tr>\n    <tr>\n      <th>3500</th>\n      <td>(조미식품, 청과, 데일리)</td>\n      <td>(인스턴트, 채소)</td>\n      <td>0.101125</td>\n      <td>0.291474</td>\n      <td>0.055251</td>\n      <td>0.546362</td>\n      <td>1.874478</td>\n      <td>0.025776</td>\n      <td>1.561876</td>\n    </tr>\n    <tr>\n      <th>3501</th>\n      <td>(조미식품, 청과, 채소)</td>\n      <td>(인스턴트, 데일리)</td>\n      <td>0.128318</td>\n      <td>0.264786</td>\n      <td>0.055251</td>\n      <td>0.430579</td>\n      <td>1.626136</td>\n      <td>0.021274</td>\n      <td>1.291160</td>\n    </tr>\n    <tr>\n      <th>3502</th>\n      <td>(인스턴트, 조미식품)</td>\n      <td>(청과, 데일리, 채소)</td>\n      <td>0.162074</td>\n      <td>0.240118</td>\n      <td>0.055251</td>\n      <td>0.340899</td>\n      <td>1.419713</td>\n      <td>0.016334</td>\n      <td>1.152906</td>\n    </tr>\n    <tr>\n      <th>3503</th>\n      <td>(조미식품, 청과)</td>\n      <td>(인스턴트, 데일리, 채소)</td>\n      <td>0.148514</td>\n      <td>0.202467</td>\n      <td>0.055251</td>\n      <td>0.372025</td>\n      <td>1.837463</td>\n      <td>0.025182</td>\n      <td>1.270008</td>\n    </tr>\n  </tbody>\n</table>\n<p>3504 rows × 9 columns</p>\n</div>"
     },
     "metadata": {},
     "execution_count": 37
    }
   ],
   "source": [
    "association_rules(fre_itemset, metric=\"confidence\", min_threshold=0.3) "
   ]
  },
  {
   "cell_type": "code",
   "execution_count": null,
   "metadata": {},
   "outputs": [],
   "source": []
  },
  {
   "source": [
    "### Sequence Pattern Mining"
   ],
   "cell_type": "markdown",
   "metadata": {}
  },
  {
   "cell_type": "code",
   "execution_count": null,
   "metadata": {},
   "outputs": [],
   "source": [
    "df = pd.read_excel('/home/shinjk1156/Project_code/Retail_Project/Data/RFID_IPS_데이터추출_20200904.xlsx', sheet_name= None)\n",
    "line = df['라인정보']\n",
    "repeater = df[\"리피터 마스터\"]\n",
    "pog = df['POG']\n",
    "pog_cate = df['POG-카테고리']\n",
    "shoping = df['가공된 쇼핑 데이터']\n",
    "#pog.drop(index= 0, inplace = True)\n",
    "#repeater.drop(index= 0, inplace = True)\n",
    "pog[\"POG 그룹 ID\"] = pog[\"POG 그룹 ID\"].map(str)\n",
    "pog_cate[\"POG 그룹 ID\"] = pog_cate[\"POG 그룹 ID\"].map(str)\n",
    "moving1 = pd.read_csv(\"실시간저장데이터_20110208_20110220.txt\", sep = \"\\t\", header = None)\n",
    "moving2 = pd.read_csv(\"실시간저장데이터_20110117_20110207.txt\", sep = \"\\t\", header = None)\n",
    "moving = moving1.append(moving2)\n",
    "moving.columns = [\"SINK ID\", \"태그 ID\",\"TAG 강도\", \"리피터 ID\", \"저장시간\"]\n",
    "\n",
    "repeater[\"리피터 ID\"] = repeater[\"리피터 ID\"].astype(str)\n",
    "moving[\"리피터 ID\"] = moving[\"리피터 ID\"].astype(str)\n",
    "\n",
    "mer_df = pd.merge(repeater, pog, on = \"POG 그룹 ID\", how = \"left\")\n",
    "\n",
    "to_shop = pd.DataFrame()\n",
    "for i in tqdm(range(1,len(shoping))):\n",
    "    sample = moving[(moving.저장시간 > shoping.loc[i,\"쇼핑 시작시간\"]) & (moving.저장시간 < shoping.loc[i,\"쇼핑 종료 시간\"]) & (moving[\"태그 ID\"] ==shoping.loc[i, \"태그 ID\"])].copy()\n",
    "    if len(sample) == 0:\n",
    "        pass\n",
    "    else:\n",
    "        sample.sort_values(by = \"저장시간\", inplace = True)\n",
    "        sample = pd.merge(sample, repeater, on = \"리피터 ID\", how = \"left\")\n",
    "        sample[\"쇼핑 ID\"] = [shoping.loc[i, \"쇼핑 ID\"]]*len(sample)\n",
    "        to_shop = to_shop.append(sample)\n",
    "#to_shop.to_csv(\"동선_전처리_0222_0220.csv\", index = False)\n"
   ]
  },
  {
   "cell_type": "code",
   "execution_count": null,
   "metadata": {},
   "outputs": [],
   "source": [
    "fdf = to_shop.copy()\n",
    "fdf.drop(columns = [\"사용 강도\", \"상품 여부\",\"가중치\",\"리포트에 보여줄지에 대한 여부\",\"스타트 여부\",\"사용여부\",\"POS 여부\", \"TAG 강도\"], inplace = True)\n",
    "fdf.dropna(inplace = True)"
   ]
  },
  {
   "cell_type": "code",
   "execution_count": null,
   "metadata": {},
   "outputs": [],
   "source": [
    "info_item = df[\"상품정보\"]\n",
    "info_cate = df[\"상품-카테고리\"]\n",
    "info_item.rename(columns = {\"DIVISION CODE\":\"DIV_CD\", \"DEPT CODE\" : \"DEPT_CD\", \"SECTION CODE\" : \"SECTION_CD\", \"CLASS CODE\" : \"CLASS_CD\"}, inplace= True)\n",
    "info_df = pd.merge(info_item, info_cate, on = [\"DIV_CD\", \"DEPT_CD\", \"SECTION_CD\", \"CLASS_CD\"], how = \"left\")\n",
    "info_df.drop(columns= [\"바코드번호\", \"판매 가격\"],index = 0 ,inplace= True)\n",
    "info_df"
   ]
  },
  {
   "cell_type": "code",
   "execution_count": null,
   "metadata": {},
   "outputs": [],
   "source": [
    "pog_df = pd.merge(pog_cate, pog, on=\"POG 그룹 ID\", how = \"left\")\n",
    "pog_df.rename(columns = {\"DIVISION\" : \"DIV_CD\", \"DEPT\" : \"DEPT_CD\", \"POG 이름_x\" : \"POG 이름\", \"POG 이름_y\":\"POG 그룹 이름\"}, inplace = True)\n",
    "pog_df.drop(index = 0, inplace = True)\n",
    "pog_df.drop(columns = [\"사용 유무\", \"POG ID\",\"POG 이름\",\"DEPT_CD\"], inplace = True)\n",
    "pog_df.drop_duplicates(inplace = True)\n",
    "pog_df"
   ]
  },
  {
   "cell_type": "code",
   "execution_count": null,
   "metadata": {},
   "outputs": [],
   "source": [
    "pog_in_df = pd.merge( pog_df, info_df.loc[:,[\"DIV_CD\", \"DIV_NAME\"]], on = [\"DIV_CD\"], how = \"left\")"
   ]
  },
  {
   "cell_type": "code",
   "execution_count": null,
   "metadata": {},
   "outputs": [],
   "source": [
    "pog_in_df.drop(columns = [\"POG 그룹 이름\"], inplace = True)\n",
    "pog_in_df.drop_duplicates(inplace = True)\n",
    "pog_in_df.reset_index(drop = True, inplace = True)"
   ]
  },
  {
   "cell_type": "code",
   "execution_count": null,
   "metadata": {},
   "outputs": [],
   "source": [
    "#DIV_NAME들을 구분하여 GW카테고리에 맞춰 새로운 칼럼생성\n",
    "gw_list = []\n",
    "for i in range(len(pog_in_df)):\n",
    "    name = pog_in_df.loc[i, \"DIV_NAME\"]\n",
    "    if name == \"과일\":\n",
    "        gw_list.append(\"청과\")\n",
    "    elif name in [\"생선\",\"건해산물\"]:\n",
    "        gw_list.append(\"수산\")\n",
    "    elif name in [\"돼지고기\" ,\"소고기\"]:\n",
    "        gw_list.append(\"축산\")\n",
    "    elif name == \"조리식품\":\n",
    "        gw_list.append(\"델리카\")\n",
    "    elif name in [\"H&B\", \"섬유잡화\", \"장신잡화\", \"남성의류편집\", \"피혁잡화\", \"신발\", \"이지캐주얼\" , \"아동유아편집\",\"여성의류편집\",\"여성의류NB\",\"남성의류NB\",\"아동유아NB\"]:\n",
    "        gw_list.append(\"H&B\")\n",
    "    elif name in [\"음료\", \"주류\"]:\n",
    "        gw_list.append(\"음료,주류\")\n",
    "    elif name in [\"일반스포츠\", \"레져스포츠\", \"스포츠NB\"]:\n",
    "        gw_list.append(\"스포츠\")\n",
    "    else:\n",
    "        gw_list.append(name)"
   ]
  },
  {
   "cell_type": "code",
   "execution_count": null,
   "metadata": {},
   "outputs": [],
   "source": [
    "pog_in_df[\"GW_Cate\"] = gw_list\n",
    "pog_in_df.drop(columns = [\"DIV_CD\", \"DIV_NAME\"],inplace = True)\n",
    "pog_in_df.drop_duplicates(inplace = True)"
   ]
  },
  {
   "cell_type": "code",
   "execution_count": null,
   "metadata": {},
   "outputs": [],
   "source": [
    "pog_id = []\n",
    "gw_ca = []\n",
    "for i in range(17):\n",
    "    if i == 0:\n",
    "        pog_id.append(0)\n",
    "        gw_ca.append(\"입구\")\n",
    "    else:\n",
    "        pog_id.append(i)\n",
    "        gw_ca.append(\"계산대\")\n",
    "io_df = pd.DataFrame()\n",
    "io_df[\"POG 그룹 ID\"] = pog_id\n",
    "io_df[\"GW_Cate\"] = gw_ca"
   ]
  },
  {
   "cell_type": "code",
   "execution_count": null,
   "metadata": {},
   "outputs": [],
   "source": [
    "pog_in_df = pd.concat([pog_in_df, io_df])\n",
    "pog_in_df[\"POG 그룹 ID\"] = pog_in_df[\"POG 그룹 ID\"].astype(int)\n",
    "fdf[\"POG 그룹 ID\"] = fdf[\"POG 그룹 ID\"].astype(int)\n",
    "final = pd.merge(fdf, pog_in_df, on= \"POG 그룹 ID\", how = \"left\")\n"
   ]
  },
  {
   "source": [
    "final.to_csv(\"동선정보_매핑완료_0122_0220.csv\", index = False)"
   ],
   "cell_type": "code",
   "metadata": {},
   "execution_count": null,
   "outputs": []
  }
 ]
}