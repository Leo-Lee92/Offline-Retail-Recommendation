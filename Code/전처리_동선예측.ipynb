{
 "metadata": {
  "language_info": {
   "codemirror_mode": {
    "name": "ipython",
    "version": 3
   },
   "file_extension": ".py",
   "mimetype": "text/x-python",
   "name": "python",
   "nbconvert_exporter": "python",
   "pygments_lexer": "ipython3",
   "version": "3.7.9-final"
  },
  "orig_nbformat": 2,
  "kernelspec": {
   "name": "python3",
   "display_name": "Python 3.7.9 64-bit ('jk_lab': conda)",
   "metadata": {
    "interpreter": {
     "hash": "c70c85ceae9ec306625909fa23946af02e638c8063a7c5d11c764988a66b2d5d"
    }
   }
  }
 },
 "nbformat": 4,
 "nbformat_minor": 2,
 "cells": [
  {
   "cell_type": "code",
   "execution_count": 1,
   "metadata": {},
   "outputs": [],
   "source": [
    "import pandas as pd \n",
    "import numpy as np \n",
    "import math\n",
    "import pandas as pd\n",
    "import sys\n",
    "from apyori import apriori\n",
    "from tqdm import tqdm\n",
    "from mlxtend.frequent_patterns import apriori, association_rules\n",
    "from mlxtend.preprocessing import TransactionEncoder\n",
    "from datetime import datetime"
   ]
  },
  {
   "cell_type": "code",
   "execution_count": 2,
   "metadata": {},
   "outputs": [],
   "source": [
    "class Error(Exception):\n",
    "    def __str__(self):\n",
    "        return \"허용되지 않는 행동입니다.\""
   ]
  },
  {
   "cell_type": "code",
   "execution_count": 3,
   "metadata": {},
   "outputs": [
    {
     "output_type": "stream",
     "name": "stdout",
     "text": [
      "/home/shinjk1156/Project_code/Retail_Project/Code\n"
     ]
    }
   ],
   "source": [
    "print(sys.path[0])"
   ]
  },
  {
   "source": [
    "### Setting Grid World"
   ],
   "cell_type": "markdown",
   "metadata": {}
  },
  {
   "cell_type": "code",
   "execution_count": 4,
   "metadata": {},
   "outputs": [],
   "source": [
    "df = pd.read_excel('/home/shinjk1156/Project_code/Retail_Project/Data/RFID_IPS_데이터추출_20200904.xlsx', sheet_name= None)"
   ]
  },
  {
   "cell_type": "code",
   "execution_count": 5,
   "metadata": {},
   "outputs": [],
   "source": [
    "grid_dic = {\"청과\" : [(0,1),(0,2),(0,3),(0,4)], \"곡물\" : [(1,1),(1,2),(1,3),(1,4)], \"입구\" : [(0,0)], \n",
    "            \"채소\" : [(0,5),(0,6),(0,7),(1,5),(1,6),(1,7)], \"닭고기\" : [(0,8)], \"수산\" : [(0,9), (1,8), (1,9)], \"축산\" : [(0,10), (1,10)], \n",
    "            \"델리카\" : [(0,11), (1,11)], \"계산대\" : [(1,0),(2,0),(3,0),(4,0)], \"청소욕실\" : [(2,5),(2,6),(3,5),(3,6)],\n",
    "            \"주방용품\" : [(2,7),(3,7)], \"언더웨어\" : [(4,5), (4,6)], \"H&B\" : [(2,1),(2,2),(2,3),(2,4), (3,1),(3,2),(3,3),(3,4), (4,1),(4,2),(4,3),(4,4)],\n",
    "            \"건강,차\" : [(4,7)], \"조미식품\" : [(2,8), (2,9)], \"인스턴트\" : [(3,8), (3,9)], \"과자\" : [(4,8), (4,9)], \n",
    "            \"냉장냉동\" : [(2,10), (2,11)], \"데일리\" : [(3,10), (3,11)], \"음료,주류\" : [(4,10),(4,11)],\n",
    "            \"스포츠\" : [(5,1)], \"문구\" : [(5,2)], \"완구\" : [(5,3)], \"자동차\" : [(5,4)], \"애완원예용품\" : [(5,5)], \"인테리어\" : [(5,6)],\n",
    "            \"수예\" : [(5,7)], \"세제\" : [(5,8)], \"위생용품\" : [(5,9)], \"금지구역\" : [(5,10),(5,11),(5,0)]}"
   ]
  },
  {
   "cell_type": "code",
   "execution_count": 6,
   "metadata": {},
   "outputs": [],
   "source": [
    "class Agent:\n",
    "    def __init__(self, initial_position):\n",
    "        self.action_space = np.array([(0,0), (-1,0), (1,0), (0,-1), (0,1)])\n",
    "        self.action_pr = np.array([0.20,0.20,0.20,0.20,0.20])\n",
    "        self.pos = np.array(initial_position)\n",
    "\n",
    "    def set_pos(self, position):\n",
    "        self.pos = position\n",
    "        return self.pos\n",
    "\n",
    "    def get_pos(self):\n",
    "        return self.pos"
   ]
  },
  {
   "cell_type": "code",
   "execution_count": 7,
   "metadata": {},
   "outputs": [],
   "source": [
    "class Env:\n",
    "    # action space = [(0,0)), (-1,0)), (1,0)), (0,-1)), (0,1)]\n",
    "    def __init__(self, grid_dic):\n",
    "        self.grid_dic = grid_dic\n",
    "        self.grid_world = self.make_grid_world()\n",
    "\n",
    "    def make_grid_world(self):\n",
    "        grid_world = pd.DataFrame(np.zeros((6,12)))\n",
    "        for key in self.grid_dic.keys():\n",
    "            for x,y in self.grid_dic[key]:\n",
    "                grid_world.iloc[x,y] = key\n",
    "        return grid_world\n",
    "\n",
    "    def move(self, agent, action):\n",
    "        terminal = False\n",
    "        reward = 0\n",
    "        #현재 좌표\n",
    "        current_pos = agent.pos\n",
    "        #현재 좌표에 대응되는 현재 매대\n",
    "        cur_key = self.grid_world.iloc[current_pos[0], current_pos[1]]\n",
    "        #이동된 좌표\n",
    "        try: next_pos = agent.pos + agent.action_space[action] #아직은 전이확률을 고려하지 않음\n",
    "        except: raise Error()\n",
    "        #이동된 좌표에 대응되는 다음 매대\n",
    "        try: next_key = self.grid_world.iloc[next_pos[0], next_pos[1]]\n",
    "        except: next_key = \"금지구역\"\n",
    "\n",
    "        #매대간 이동이 존재하는대도 만약 cur_key와 next_key가 같을 시,(이동이 발생했는대도 그리드월드 설계문제로 인해 매대 이동이 발생하지 못함)\n",
    "        #이 때 이동좌표를 변경시켜줌\n",
    "        if action != 0:\n",
    "            if cur_key == next_key:\n",
    "                temp = np.array(self.grid_dic[next_key])\n",
    "                if action == 1: next_pos[0] = min(temp.T[0]) - 1\n",
    "                elif action == 2: next_pos[0] = max(temp.T[0]) + 1\n",
    "                elif action == 3: next_pos[1] = min(temp.T[1]) - 1\n",
    "                elif action == 4: next_pos[1] = max(temp.T[1]) + 1\n",
    "                else: raise Error()\n",
    "        #현재 좌표가 최종목적지인지 확인\n",
    "        if self.grid_world.iloc[current_pos[0], current_pos[1]] == \"계산대\":\n",
    "            terminal = True\n",
    "            show_next_pos = agent.set_pos(agent.pos)\n",
    "            #reward = 0\n",
    "\n",
    "        #이동된 좌표가 이동 불가능한 지점인지 확인\n",
    "        elif next_key == \"금지구역\" or tuple(next_pos) in self.grid_dic[\"금지구역\"] or next_pos[0] < 0 or next_pos[1] < 0:\n",
    "            terminal = True\n",
    "            show_next_pos = agent.set_pos(agent.pos)\n",
    "            #reward = 0\n",
    "\n",
    "        #이동가능한 동선이면 '이동':\n",
    "        else:\n",
    "            show_next_pos = agent.set_pos(next_pos)\n",
    "        \n",
    "        return show_next_pos, reward, terminal\n",
    "\n"
   ]
  },
  {
   "cell_type": "code",
   "execution_count": 8,
   "metadata": {},
   "outputs": [
    {
     "output_type": "stream",
     "name": "stdout",
     "text": [
      "(array([1, 5]), 0, False)\n"
     ]
    },
    {
     "output_type": "execute_result",
     "data": {
      "text/plain": [
       "array([1, 5])"
      ]
     },
     "metadata": {},
     "execution_count": 8
    }
   ],
   "source": [
    "agent = Agent((1,1)) \n",
    "env = Env(grid_dic)\n",
    "print(env.move(agent, 4))\n",
    "agent.get_pos()"
   ]
  },
  {
   "cell_type": "code",
   "execution_count": 9,
   "metadata": {},
   "outputs": [
    {
     "output_type": "execute_result",
     "data": {
      "text/plain": [
       "     0    1    2    3    4       5     6     7     8     9      10     11\n",
       "0    입구   청과   청과   청과   청과      채소    채소    채소   닭고기    수산     축산    델리카\n",
       "1   계산대   곡물   곡물   곡물   곡물      채소    채소    채소    수산    수산     축산    델리카\n",
       "2   계산대  H&B  H&B  H&B  H&B    청소욕실  청소욕실  주방용품  조미식품  조미식품   냉장냉동   냉장냉동\n",
       "3   계산대  H&B  H&B  H&B  H&B    청소욕실  청소욕실  주방용품  인스턴트  인스턴트    데일리    데일리\n",
       "4   계산대  H&B  H&B  H&B  H&B    언더웨어  언더웨어  건강,차    과자    과자  음료,주류  음료,주류\n",
       "5  금지구역  스포츠   문구   완구  자동차  애완원예용품  인테리어    수예    세제  위생용품   금지구역   금지구역"
      ],
      "text/html": "<div>\n<style scoped>\n    .dataframe tbody tr th:only-of-type {\n        vertical-align: middle;\n    }\n\n    .dataframe tbody tr th {\n        vertical-align: top;\n    }\n\n    .dataframe thead th {\n        text-align: right;\n    }\n</style>\n<table border=\"1\" class=\"dataframe\">\n  <thead>\n    <tr style=\"text-align: right;\">\n      <th></th>\n      <th>0</th>\n      <th>1</th>\n      <th>2</th>\n      <th>3</th>\n      <th>4</th>\n      <th>5</th>\n      <th>6</th>\n      <th>7</th>\n      <th>8</th>\n      <th>9</th>\n      <th>10</th>\n      <th>11</th>\n    </tr>\n  </thead>\n  <tbody>\n    <tr>\n      <th>0</th>\n      <td>입구</td>\n      <td>청과</td>\n      <td>청과</td>\n      <td>청과</td>\n      <td>청과</td>\n      <td>채소</td>\n      <td>채소</td>\n      <td>채소</td>\n      <td>닭고기</td>\n      <td>수산</td>\n      <td>축산</td>\n      <td>델리카</td>\n    </tr>\n    <tr>\n      <th>1</th>\n      <td>계산대</td>\n      <td>곡물</td>\n      <td>곡물</td>\n      <td>곡물</td>\n      <td>곡물</td>\n      <td>채소</td>\n      <td>채소</td>\n      <td>채소</td>\n      <td>수산</td>\n      <td>수산</td>\n      <td>축산</td>\n      <td>델리카</td>\n    </tr>\n    <tr>\n      <th>2</th>\n      <td>계산대</td>\n      <td>H&amp;B</td>\n      <td>H&amp;B</td>\n      <td>H&amp;B</td>\n      <td>H&amp;B</td>\n      <td>청소욕실</td>\n      <td>청소욕실</td>\n      <td>주방용품</td>\n      <td>조미식품</td>\n      <td>조미식품</td>\n      <td>냉장냉동</td>\n      <td>냉장냉동</td>\n    </tr>\n    <tr>\n      <th>3</th>\n      <td>계산대</td>\n      <td>H&amp;B</td>\n      <td>H&amp;B</td>\n      <td>H&amp;B</td>\n      <td>H&amp;B</td>\n      <td>청소욕실</td>\n      <td>청소욕실</td>\n      <td>주방용품</td>\n      <td>인스턴트</td>\n      <td>인스턴트</td>\n      <td>데일리</td>\n      <td>데일리</td>\n    </tr>\n    <tr>\n      <th>4</th>\n      <td>계산대</td>\n      <td>H&amp;B</td>\n      <td>H&amp;B</td>\n      <td>H&amp;B</td>\n      <td>H&amp;B</td>\n      <td>언더웨어</td>\n      <td>언더웨어</td>\n      <td>건강,차</td>\n      <td>과자</td>\n      <td>과자</td>\n      <td>음료,주류</td>\n      <td>음료,주류</td>\n    </tr>\n    <tr>\n      <th>5</th>\n      <td>금지구역</td>\n      <td>스포츠</td>\n      <td>문구</td>\n      <td>완구</td>\n      <td>자동차</td>\n      <td>애완원예용품</td>\n      <td>인테리어</td>\n      <td>수예</td>\n      <td>세제</td>\n      <td>위생용품</td>\n      <td>금지구역</td>\n      <td>금지구역</td>\n    </tr>\n  </tbody>\n</table>\n</div>"
     },
     "metadata": {},
     "execution_count": 9
    }
   ],
   "source": [
    "env.grid_world"
   ]
  },
  {
   "source": [
    "### Association Rule Mining"
   ],
   "cell_type": "markdown",
   "metadata": {}
  },
  {
   "cell_type": "code",
   "execution_count": 96,
   "metadata": {},
   "outputs": [],
   "source": [
    "pos_detail = df['POS_DETAIL']\n",
    "pog_cate = df[\"POG-카테고리\"]\n",
    "pog = df[\"POG\"]\n",
    "info_item = df[\"상품정보\"]\n",
    "info_cate = df['상품-카테고리']"
   ]
  },
  {
   "cell_type": "code",
   "execution_count": 97,
   "metadata": {},
   "outputs": [],
   "source": [
    "pog_df = pd.merge(pog_cate, pog, on = \"POG 그룹 ID\", how = \"left\")\n",
    "pog_df.rename(columns = {\"DIVISION\" : \"DIV_CD\", \"DEPT\" : \"DEPT_CD\", \"POG 이름_x\" : \"POG 이름\", \"POG 이름_y\":\"POG 그룹 이름\"}, inplace = True)\n",
    "pog_df.drop(index = 0, inplace = True)\n",
    "pog_df.drop(columns = [\"사용 유무\", \"POG 그룹 ID\", \"POG ID\",\"POG 이름\"], inplace = True)\n",
    "pog_df.drop_duplicates(inplace = True)"
   ]
  },
  {
   "cell_type": "code",
   "execution_count": 98,
   "metadata": {},
   "outputs": [],
   "source": [
    "#info_item.drop(index = 0, inplace = True)\n",
    "info_item.rename(columns = {\"DIVISION CODE\":\"DIV_CD\", \"DEPT CODE\" : \"DEPT_CD\", \"SECTION CODE\" : \"SECTION_CD\", \"CLASS CODE\" : \"CLASS_CD\"}, inplace= True)\n",
    "info_df = pd.merge(info_item, info_cate, on = [\"DIV_CD\", \"DEPT_CD\", \"SECTION_CD\", \"CLASS_CD\"], how = \"left\")\n",
    "info_df.drop(columns= [\"바코드번호\", \"판매 가격\"], inplace= True)\n",
    "pog_in_df = pd.merge(info_df, pog_df, on = [\"DIV_CD\", \"DEPT_CD\"], how = \"left\")\n",
    "item_df = pd.merge(pos_detail.loc[:,[\"쇼핑 ID\", \"자체상품코드\"]], pog_in_df, on = \"자체상품코드\", how = \"left\")\n",
    "item_df.rename(columns= {\"DIVISION CODE\" : \"DIVISION\", \"DEPT CODE\" : \"DEPT\"}, inplace = True)\n",
    "item_df.drop(index= 0, inplace = True)\n",
    "item_df.drop_duplicates(inplace = True)\n",
    "item_df.reset_index(drop= True, inplace = True)"
   ]
  },
  {
   "cell_type": "code",
   "execution_count": 99,
   "metadata": {},
   "outputs": [
    {
     "output_type": "execute_result",
     "data": {
      "text/plain": [
       "        쇼핑 ID      자체상품코드             상품명 DIV_CD DEPT_CD SECTION_CD CLASS_CD  \\\n",
       "0           1  1355218000    ●동원 참치세트 16호     27     185       1617    11400   \n",
       "1           1  0002960000             피홍합     20     154       1452    13770   \n",
       "2           1  1289860000   다이소2000원균일가제품     35     782       7238    67347   \n",
       "3           1  1260181000     와이즐렉 네임펜흑3입     39     256       1849    12020   \n",
       "4           1  1248045000   와이즐렉스테플러10호세트     39     258       1860    12072   \n",
       "...       ...         ...             ...    ...     ...        ...      ...   \n",
       "356082  26043  1480971000  풀)국산 더단단한 부침두부     19     146       7250    67537   \n",
       "356083  26043  1494164000  아침의 계란(왕란/15입)     72     805       7378    67992   \n",
       "356084  26045  0008750000         친환경 쌈채소     19     149       1391    10624   \n",
       "356085  26045  0030732000            바지락살     20     154       1453    10751   \n",
       "356086  26045  0033620000     왕딸기(1KG/박스)     17     132       1271    10335   \n",
       "\n",
       "       DIV_NAME DEPT_NAME SECTION_NAME  \\\n",
       "0          인스턴트      선물세트      통조림선물세트   \n",
       "1            생선     해물연체류          각패류   \n",
       "2          주방용품  주방시즌/균일가        주방균일가   \n",
       "3            문구      필기도구            펜   \n",
       "4            문구    일반사무용품         OA용품   \n",
       "...         ...       ...          ...   \n",
       "356082       채소        두부        풀무원두부   \n",
       "356083      닭고기        계란          일반란   \n",
       "356084       채소     친환경채소       친환경쌈채류   \n",
       "356085       생선     해물연체류          살패류   \n",
       "356086       과일      국산과일           딸기   \n",
       "\n",
       "                                              CLASS_NAME POG 그룹 이름  \n",
       "0                참치통조림혼합선물세트                                   NaN  \n",
       "1       홍합                                                     NaN  \n",
       "2            주방용품균일가                                           NaN  \n",
       "3         유성매직                                                  문구  \n",
       "4         스테플러                                                  문구  \n",
       "...                                                  ...       ...  \n",
       "356082       풀무원포장두부                                           채소2  \n",
       "356083    소포장란                                                 닭고기  \n",
       "356084      친환경쌈채류                                             채소2  \n",
       "356085    바지락살                                                 NaN  \n",
       "356086    박스딸기                                                 NaN  \n",
       "\n",
       "[356087 rows x 12 columns]"
      ],
      "text/html": "<div>\n<style scoped>\n    .dataframe tbody tr th:only-of-type {\n        vertical-align: middle;\n    }\n\n    .dataframe tbody tr th {\n        vertical-align: top;\n    }\n\n    .dataframe thead th {\n        text-align: right;\n    }\n</style>\n<table border=\"1\" class=\"dataframe\">\n  <thead>\n    <tr style=\"text-align: right;\">\n      <th></th>\n      <th>쇼핑 ID</th>\n      <th>자체상품코드</th>\n      <th>상품명</th>\n      <th>DIV_CD</th>\n      <th>DEPT_CD</th>\n      <th>SECTION_CD</th>\n      <th>CLASS_CD</th>\n      <th>DIV_NAME</th>\n      <th>DEPT_NAME</th>\n      <th>SECTION_NAME</th>\n      <th>CLASS_NAME</th>\n      <th>POG 그룹 이름</th>\n    </tr>\n  </thead>\n  <tbody>\n    <tr>\n      <th>0</th>\n      <td>1</td>\n      <td>1355218000</td>\n      <td>●동원 참치세트 16호</td>\n      <td>27</td>\n      <td>185</td>\n      <td>1617</td>\n      <td>11400</td>\n      <td>인스턴트</td>\n      <td>선물세트</td>\n      <td>통조림선물세트</td>\n      <td>참치통조림혼합선물세트</td>\n      <td>NaN</td>\n    </tr>\n    <tr>\n      <th>1</th>\n      <td>1</td>\n      <td>0002960000</td>\n      <td>피홍합</td>\n      <td>20</td>\n      <td>154</td>\n      <td>1452</td>\n      <td>13770</td>\n      <td>생선</td>\n      <td>해물연체류</td>\n      <td>각패류</td>\n      <td>홍합</td>\n      <td>NaN</td>\n    </tr>\n    <tr>\n      <th>2</th>\n      <td>1</td>\n      <td>1289860000</td>\n      <td>다이소2000원균일가제품</td>\n      <td>35</td>\n      <td>782</td>\n      <td>7238</td>\n      <td>67347</td>\n      <td>주방용품</td>\n      <td>주방시즌/균일가</td>\n      <td>주방균일가</td>\n      <td>주방용품균일가</td>\n      <td>NaN</td>\n    </tr>\n    <tr>\n      <th>3</th>\n      <td>1</td>\n      <td>1260181000</td>\n      <td>와이즐렉 네임펜흑3입</td>\n      <td>39</td>\n      <td>256</td>\n      <td>1849</td>\n      <td>12020</td>\n      <td>문구</td>\n      <td>필기도구</td>\n      <td>펜</td>\n      <td>유성매직</td>\n      <td>문구</td>\n    </tr>\n    <tr>\n      <th>4</th>\n      <td>1</td>\n      <td>1248045000</td>\n      <td>와이즐렉스테플러10호세트</td>\n      <td>39</td>\n      <td>258</td>\n      <td>1860</td>\n      <td>12072</td>\n      <td>문구</td>\n      <td>일반사무용품</td>\n      <td>OA용품</td>\n      <td>스테플러</td>\n      <td>문구</td>\n    </tr>\n    <tr>\n      <th>...</th>\n      <td>...</td>\n      <td>...</td>\n      <td>...</td>\n      <td>...</td>\n      <td>...</td>\n      <td>...</td>\n      <td>...</td>\n      <td>...</td>\n      <td>...</td>\n      <td>...</td>\n      <td>...</td>\n      <td>...</td>\n    </tr>\n    <tr>\n      <th>356082</th>\n      <td>26043</td>\n      <td>1480971000</td>\n      <td>풀)국산 더단단한 부침두부</td>\n      <td>19</td>\n      <td>146</td>\n      <td>7250</td>\n      <td>67537</td>\n      <td>채소</td>\n      <td>두부</td>\n      <td>풀무원두부</td>\n      <td>풀무원포장두부</td>\n      <td>채소2</td>\n    </tr>\n    <tr>\n      <th>356083</th>\n      <td>26043</td>\n      <td>1494164000</td>\n      <td>아침의 계란(왕란/15입)</td>\n      <td>72</td>\n      <td>805</td>\n      <td>7378</td>\n      <td>67992</td>\n      <td>닭고기</td>\n      <td>계란</td>\n      <td>일반란</td>\n      <td>소포장란</td>\n      <td>닭고기</td>\n    </tr>\n    <tr>\n      <th>356084</th>\n      <td>26045</td>\n      <td>0008750000</td>\n      <td>친환경 쌈채소</td>\n      <td>19</td>\n      <td>149</td>\n      <td>1391</td>\n      <td>10624</td>\n      <td>채소</td>\n      <td>친환경채소</td>\n      <td>친환경쌈채류</td>\n      <td>친환경쌈채류</td>\n      <td>채소2</td>\n    </tr>\n    <tr>\n      <th>356085</th>\n      <td>26045</td>\n      <td>0030732000</td>\n      <td>바지락살</td>\n      <td>20</td>\n      <td>154</td>\n      <td>1453</td>\n      <td>10751</td>\n      <td>생선</td>\n      <td>해물연체류</td>\n      <td>살패류</td>\n      <td>바지락살</td>\n      <td>NaN</td>\n    </tr>\n    <tr>\n      <th>356086</th>\n      <td>26045</td>\n      <td>0033620000</td>\n      <td>왕딸기(1KG/박스)</td>\n      <td>17</td>\n      <td>132</td>\n      <td>1271</td>\n      <td>10335</td>\n      <td>과일</td>\n      <td>국산과일</td>\n      <td>딸기</td>\n      <td>박스딸기</td>\n      <td>NaN</td>\n    </tr>\n  </tbody>\n</table>\n<p>356087 rows × 12 columns</p>\n</div>"
     },
     "metadata": {},
     "execution_count": 99
    }
   ],
   "source": [
    "item_df"
   ]
  },
  {
   "cell_type": "code",
   "execution_count": 100,
   "metadata": {},
   "outputs": [],
   "source": [
    "#DIV_NAME들을 구분하여 GW카테고리에 맞춰 새로운 칼럼생성\n",
    "gw_list = []\n",
    "for i in range(len(item_df)):\n",
    "    name = item_df.loc[i, \"DIV_NAME\"]\n",
    "    if name == \"과일\":\n",
    "        gw_list.append(\"청과\")\n",
    "    elif name in [\"생선\",\"건해산물\"]:\n",
    "        gw_list.append(\"수산\")\n",
    "    elif name in [\"돼지고기\" ,\"소고기\"]:\n",
    "        gw_list.append(\"축산\")\n",
    "    elif name == \"조리식품\":\n",
    "        gw_list.append(\"델리카\")\n",
    "    elif name in [\"H&B\", \"섬유잡화\", \"장신잡화\", \"남성의류편집\", \"피혁잡화\", \"신발\", \"아동유아편집\"]:\n",
    "        gw_list.append(\"H&B\")\n",
    "    elif name in [\"음료\", \"주류\"]:\n",
    "        gw_list.append(\"음료,주류\")\n",
    "    elif name in [\"일반스포츠\", \"레져스포츠\", \"스포츠NB\"]:\n",
    "        gw_list.append(\"스포츠\")\n",
    "    else:\n",
    "        gw_list.append(name)\n",
    "item_df[\"GW_Cate\"] = gw_list\n",
    "item_df.drop(columns = [\"POG 그룹 이름\", \"DEPT_NAME\",\"SECTION_NAME\", \"CLASS_NAME\"], inplace= True)\n",
    "item_df.drop_duplicates(inplace = True)\n",
    "item_df.dropna(inplace = True)\n",
    "item_df.reset_index(drop = True, inplace= True)"
   ]
  },
  {
   "cell_type": "code",
   "execution_count": 102,
   "metadata": {},
   "outputs": [
    {
     "output_type": "execute_result",
     "data": {
      "text/plain": [
       "array(['인스턴트', '수산', '주방용품', '문구', '과자', '채소', '음료,주류', '청과', '위생용품',\n",
       "       '냉장냉동', '세제', '데일리', '축산', '조미식품', 'H&B', '닭고기', '건강,차', '곡물',\n",
       "       '델리카', '청소욕실', '애완원예용품', '인테리어', '언더웨어', '자동차', '완구', '스포츠', '수예'],\n",
       "      dtype=object)"
      ]
     },
     "metadata": {},
     "execution_count": 102
    }
   ],
   "source": [
    "item_df.GW_Cate.unique()"
   ]
  },
  {
   "cell_type": "code",
   "execution_count": 33,
   "metadata": {},
   "outputs": [
    {
     "output_type": "stream",
     "name": "stderr",
     "text": [
      "100%|██████████| 13864/13864 [02:14<00:00, 102.79it/s]\n"
     ]
    }
   ],
   "source": [
    "shid_list = item_df[\"쇼핑 ID\"].unique()\n",
    "transaction_list = []\n",
    "for s_id in tqdm(shid_list, desc = \"Create Transaction_list\"):\n",
    "    transaction_list.append(list(item_df[item_df[\"쇼핑 ID\"] == s_id].GW_Cate.unique()))\n"
   ]
  },
  {
   "cell_type": "code",
   "execution_count": 34,
   "metadata": {},
   "outputs": [],
   "source": [
    "t_encoder = TransactionEncoder()\n",
    "t_array = t_encoder.fit(transaction_list).transform(transaction_list)\n",
    "t_df = pd.DataFrame(t_array, columns= t_encoder.columns_)"
   ]
  },
  {
   "cell_type": "code",
   "execution_count": 53,
   "metadata": {},
   "outputs": [
    {
     "output_type": "execute_result",
     "data": {
      "text/plain": [
       "      support                    itemsets\n",
       "0    0.707372                        (채소)\n",
       "1    0.569749                       (데일리)\n",
       "2    0.462709                        (청과)\n",
       "3    0.452178                        (수산)\n",
       "4    0.419432                   (데일리, 채소)\n",
       "..        ...                         ...\n",
       "693  0.050202        (인스턴트, 수산, 주방용품, 채소)\n",
       "694  0.050130    (인스턴트, 데일리, 델리카, 채소, 청과)\n",
       "695  0.050058           (청소욕실, 데일리, 냉장냉동)\n",
       "696  0.050058           (인스턴트, H&B, 냉장냉동)\n",
       "697  0.050058  (냉장냉동, 인스턴트, 델리카, 채소, 데일리)\n",
       "\n",
       "[698 rows x 2 columns]"
      ],
      "text/html": "<div>\n<style scoped>\n    .dataframe tbody tr th:only-of-type {\n        vertical-align: middle;\n    }\n\n    .dataframe tbody tr th {\n        vertical-align: top;\n    }\n\n    .dataframe thead th {\n        text-align: right;\n    }\n</style>\n<table border=\"1\" class=\"dataframe\">\n  <thead>\n    <tr style=\"text-align: right;\">\n      <th></th>\n      <th>support</th>\n      <th>itemsets</th>\n    </tr>\n  </thead>\n  <tbody>\n    <tr>\n      <th>0</th>\n      <td>0.707372</td>\n      <td>(채소)</td>\n    </tr>\n    <tr>\n      <th>1</th>\n      <td>0.569749</td>\n      <td>(데일리)</td>\n    </tr>\n    <tr>\n      <th>2</th>\n      <td>0.462709</td>\n      <td>(청과)</td>\n    </tr>\n    <tr>\n      <th>3</th>\n      <td>0.452178</td>\n      <td>(수산)</td>\n    </tr>\n    <tr>\n      <th>4</th>\n      <td>0.419432</td>\n      <td>(데일리, 채소)</td>\n    </tr>\n    <tr>\n      <th>...</th>\n      <td>...</td>\n      <td>...</td>\n    </tr>\n    <tr>\n      <th>693</th>\n      <td>0.050202</td>\n      <td>(인스턴트, 수산, 주방용품, 채소)</td>\n    </tr>\n    <tr>\n      <th>694</th>\n      <td>0.050130</td>\n      <td>(인스턴트, 데일리, 델리카, 채소, 청과)</td>\n    </tr>\n    <tr>\n      <th>695</th>\n      <td>0.050058</td>\n      <td>(청소욕실, 데일리, 냉장냉동)</td>\n    </tr>\n    <tr>\n      <th>696</th>\n      <td>0.050058</td>\n      <td>(인스턴트, H&amp;B, 냉장냉동)</td>\n    </tr>\n    <tr>\n      <th>697</th>\n      <td>0.050058</td>\n      <td>(냉장냉동, 인스턴트, 델리카, 채소, 데일리)</td>\n    </tr>\n  </tbody>\n</table>\n<p>698 rows × 2 columns</p>\n</div>"
     },
     "metadata": {},
     "execution_count": 53
    }
   ],
   "source": [
    "fre_itemset = apriori(t_df, min_support= 0.05, use_colnames= True)\n",
    "fre_itemset.sort_values(by = \"support\", ascending = False, inplace = True)\n",
    "fre_itemset.reset_index(drop = True, inplace= True)\n",
    "fre_itemset"
   ]
  },
  {
   "cell_type": "code",
   "execution_count": 61,
   "metadata": {},
   "outputs": [],
   "source": [
    "import csv"
   ]
  },
  {
   "cell_type": "code",
   "execution_count": 63,
   "metadata": {},
   "outputs": [],
   "source": [
    "with open(\"..rules.csv\", 'w', newline = '') as file:\n",
    "    writer = csv.writer(file)\n",
    "    writer.writerows(item_list)"
   ]
  },
  {
   "cell_type": "code",
   "execution_count": 59,
   "metadata": {},
   "outputs": [],
   "source": [
    "min_num_items = 5\n",
    "num_collect = 10\n",
    "i = 0\n",
    "count = 0\n",
    "item_list=[]\n",
    "while(True):\n",
    "    if count == num_collect:\n",
    "        break\n",
    "    if len(fre_itemset.itemsets[i]) >= min_num_items:\n",
    "        count += 1\n",
    "        item_list.append(list(fre_itemset.itemsets[i]))\n",
    "    i+=1\n",
    "\n",
    "return item_list\n"
   ]
  },
  {
   "cell_type": "code",
   "execution_count": 37,
   "metadata": {},
   "outputs": [
    {
     "output_type": "execute_result",
     "data": {
      "text/plain": [
       "          antecedents      consequents  antecedent support  \\\n",
       "0               (H&B)             (과자)            0.196336   \n",
       "1               (H&B)           (냉장냉동)            0.196336   \n",
       "2               (H&B)            (닭고기)            0.196336   \n",
       "3               (H&B)            (데일리)            0.196336   \n",
       "4               (H&B)            (델리카)            0.196336   \n",
       "...               ...              ...                 ...   \n",
       "3499  (조미식품, 데일리, 채소)       (인스턴트, 청과)            0.147144   \n",
       "3500  (조미식품, 청과, 데일리)       (인스턴트, 채소)            0.101125   \n",
       "3501   (조미식품, 청과, 채소)      (인스턴트, 데일리)            0.128318   \n",
       "3502     (인스턴트, 조미식품)    (청과, 데일리, 채소)            0.162074   \n",
       "3503       (조미식품, 청과)  (인스턴트, 데일리, 채소)            0.148514   \n",
       "\n",
       "      consequent support   support  confidence      lift  leverage  conviction  \n",
       "0               0.418782  0.098745    0.502939  1.200955  0.016523    1.169308  \n",
       "1               0.383078  0.086267    0.439383  1.146979  0.011055    1.100433  \n",
       "2               0.261829  0.059290    0.301984  1.153362  0.007884    1.057527  \n",
       "3               0.569749  0.126010    0.641807  1.126474  0.014148    1.201173  \n",
       "4               0.333309  0.070326    0.358193  1.074655  0.004885    1.038771  \n",
       "...                  ...       ...         ...       ...       ...         ...  \n",
       "3499            0.192297  0.055251    0.375490  1.952662  0.026956    1.293340  \n",
       "3500            0.291474  0.055251    0.546362  1.874478  0.025776    1.561876  \n",
       "3501            0.264786  0.055251    0.430579  1.626136  0.021274    1.291160  \n",
       "3502            0.240118  0.055251    0.340899  1.419713  0.016334    1.152906  \n",
       "3503            0.202467  0.055251    0.372025  1.837463  0.025182    1.270008  \n",
       "\n",
       "[3504 rows x 9 columns]"
      ],
      "text/html": "<div>\n<style scoped>\n    .dataframe tbody tr th:only-of-type {\n        vertical-align: middle;\n    }\n\n    .dataframe tbody tr th {\n        vertical-align: top;\n    }\n\n    .dataframe thead th {\n        text-align: right;\n    }\n</style>\n<table border=\"1\" class=\"dataframe\">\n  <thead>\n    <tr style=\"text-align: right;\">\n      <th></th>\n      <th>antecedents</th>\n      <th>consequents</th>\n      <th>antecedent support</th>\n      <th>consequent support</th>\n      <th>support</th>\n      <th>confidence</th>\n      <th>lift</th>\n      <th>leverage</th>\n      <th>conviction</th>\n    </tr>\n  </thead>\n  <tbody>\n    <tr>\n      <th>0</th>\n      <td>(H&amp;B)</td>\n      <td>(과자)</td>\n      <td>0.196336</td>\n      <td>0.418782</td>\n      <td>0.098745</td>\n      <td>0.502939</td>\n      <td>1.200955</td>\n      <td>0.016523</td>\n      <td>1.169308</td>\n    </tr>\n    <tr>\n      <th>1</th>\n      <td>(H&amp;B)</td>\n      <td>(냉장냉동)</td>\n      <td>0.196336</td>\n      <td>0.383078</td>\n      <td>0.086267</td>\n      <td>0.439383</td>\n      <td>1.146979</td>\n      <td>0.011055</td>\n      <td>1.100433</td>\n    </tr>\n    <tr>\n      <th>2</th>\n      <td>(H&amp;B)</td>\n      <td>(닭고기)</td>\n      <td>0.196336</td>\n      <td>0.261829</td>\n      <td>0.059290</td>\n      <td>0.301984</td>\n      <td>1.153362</td>\n      <td>0.007884</td>\n      <td>1.057527</td>\n    </tr>\n    <tr>\n      <th>3</th>\n      <td>(H&amp;B)</td>\n      <td>(데일리)</td>\n      <td>0.196336</td>\n      <td>0.569749</td>\n      <td>0.126010</td>\n      <td>0.641807</td>\n      <td>1.126474</td>\n      <td>0.014148</td>\n      <td>1.201173</td>\n    </tr>\n    <tr>\n      <th>4</th>\n      <td>(H&amp;B)</td>\n      <td>(델리카)</td>\n      <td>0.196336</td>\n      <td>0.333309</td>\n      <td>0.070326</td>\n      <td>0.358193</td>\n      <td>1.074655</td>\n      <td>0.004885</td>\n      <td>1.038771</td>\n    </tr>\n    <tr>\n      <th>...</th>\n      <td>...</td>\n      <td>...</td>\n      <td>...</td>\n      <td>...</td>\n      <td>...</td>\n      <td>...</td>\n      <td>...</td>\n      <td>...</td>\n      <td>...</td>\n    </tr>\n    <tr>\n      <th>3499</th>\n      <td>(조미식품, 데일리, 채소)</td>\n      <td>(인스턴트, 청과)</td>\n      <td>0.147144</td>\n      <td>0.192297</td>\n      <td>0.055251</td>\n      <td>0.375490</td>\n      <td>1.952662</td>\n      <td>0.026956</td>\n      <td>1.293340</td>\n    </tr>\n    <tr>\n      <th>3500</th>\n      <td>(조미식품, 청과, 데일리)</td>\n      <td>(인스턴트, 채소)</td>\n      <td>0.101125</td>\n      <td>0.291474</td>\n      <td>0.055251</td>\n      <td>0.546362</td>\n      <td>1.874478</td>\n      <td>0.025776</td>\n      <td>1.561876</td>\n    </tr>\n    <tr>\n      <th>3501</th>\n      <td>(조미식품, 청과, 채소)</td>\n      <td>(인스턴트, 데일리)</td>\n      <td>0.128318</td>\n      <td>0.264786</td>\n      <td>0.055251</td>\n      <td>0.430579</td>\n      <td>1.626136</td>\n      <td>0.021274</td>\n      <td>1.291160</td>\n    </tr>\n    <tr>\n      <th>3502</th>\n      <td>(인스턴트, 조미식품)</td>\n      <td>(청과, 데일리, 채소)</td>\n      <td>0.162074</td>\n      <td>0.240118</td>\n      <td>0.055251</td>\n      <td>0.340899</td>\n      <td>1.419713</td>\n      <td>0.016334</td>\n      <td>1.152906</td>\n    </tr>\n    <tr>\n      <th>3503</th>\n      <td>(조미식품, 청과)</td>\n      <td>(인스턴트, 데일리, 채소)</td>\n      <td>0.148514</td>\n      <td>0.202467</td>\n      <td>0.055251</td>\n      <td>0.372025</td>\n      <td>1.837463</td>\n      <td>0.025182</td>\n      <td>1.270008</td>\n    </tr>\n  </tbody>\n</table>\n<p>3504 rows × 9 columns</p>\n</div>"
     },
     "metadata": {},
     "execution_count": 37
    }
   ],
   "source": [
    "association_rules(fre_itemset, metric=\"confidence\", min_threshold=0.3) "
   ]
  },
  {
   "source": [
    "### Sequence Pattern Mining"
   ],
   "cell_type": "markdown",
   "metadata": {}
  },
  {
   "cell_type": "code",
   "execution_count": null,
   "metadata": {},
   "outputs": [],
   "source": []
  },
  {
   "cell_type": "code",
   "execution_count": 5,
   "metadata": {},
   "outputs": [],
   "source": [
    "df = pd.read_excel('/home/shinjk1156/Project_code/Retail_Project/Data/RFID_IPS_데이터추출_20200904.xlsx', sheet_name= None)\n",
    "line = df['라인정보']\n",
    "repeater = df[\"리피터 마스터\"]\n",
    "pog = df['POG']\n",
    "pog_cate = df['POG-카테고리']\n",
    "shoping = df['가공된 쇼핑 데이터']\n",
    "#pog.drop(index= 0, inplace = True)\n",
    "#repeater.drop(index= 0, inplace = True)\n",
    "pog[\"POG 그룹 ID\"] = pog[\"POG 그룹 ID\"].map(str)\n",
    "pog_cate[\"POG 그룹 ID\"] = pog_cate[\"POG 그룹 ID\"].map(str)\n",
    "moving1 = pd.read_csv(\"/home/shinjk1156/Project_code/Retail_Project/Data/실시간저장데이터_20110208_20110220.txt\", sep = \"\\t\", header = None)\n",
    "moving2 = pd.read_csv(\"/home/shinjk1156/Project_code/Retail_Project/Data/실시간저장데이터_20110117_20110207.txt\", sep = \"\\t\", header = None)\n",
    "moving = moving1.append(moving2)\n",
    "moving.columns = [\"SINK ID\", \"태그 ID\",\"TAG 강도\", \"리피터 ID\", \"저장시간\"]\n",
    "\n",
    "repeater[\"리피터 ID\"] = repeater[\"리피터 ID\"].astype(str)\n",
    "moving[\"리피터 ID\"] = moving[\"리피터 ID\"].astype(str)\n",
    "\n",
    "mer_df = pd.merge(repeater, pog, on = \"POG 그룹 ID\", how = \"left\")"
   ]
  },
  {
   "cell_type": "code",
   "execution_count": 116,
   "metadata": {},
   "outputs": [
    {
     "output_type": "execute_result",
     "data": {
      "text/plain": [
       "          리피터 ID     X 좌표     Y 좌표     POG 그룹 ID    스타트 여부  POS 여부  \\\n",
       "0    REPEATER_ID  X_Coord  Y_Coord  POG_GROUP_ID  IS_START  IS_END   \n",
       "1           1001       50      568         00000         Y       N   \n",
       "2           1002       50      593         00000         Y       N   \n",
       "3           1003      149      556         11101         N       N   \n",
       "4           1004      150      593         11101         N       N   \n",
       "..           ...      ...      ...           ...       ...     ...   \n",
       "170         1302      122      279         23001         N       N   \n",
       "171         1303      101      138         25301         N       N   \n",
       "172         1304      173      279         47001         N       N   \n",
       "173         1305      213      209         51001         N       N   \n",
       "174         1306       74      138         54001         N       N   \n",
       "\n",
       "            사용 강도    사용여부         상품 여부          가중치 리포트에 보여줄지에 대한 여부  \\\n",
       "0    USE_STRENGTH  USE_YN  ITEM_SALE_YN  POINT_LEVEL    REPORT_USE_YN   \n",
       "1               0       Y             N            3                N   \n",
       "2               0       Y             N            3                N   \n",
       "3               0       Y             Y            3                Y   \n",
       "4               0       Y             Y            3                Y   \n",
       "..            ...     ...           ...          ...              ...   \n",
       "170             0       Y             Y            3                N   \n",
       "171             0       Y             Y            3                N   \n",
       "172             0       Y             Y            3                N   \n",
       "173             0       Y             Y            3                N   \n",
       "174             0       Y             Y            3                N   \n",
       "\n",
       "             POG 이름  \n",
       "0    POG_GROUP_DESC  \n",
       "1               NaN  \n",
       "2               NaN  \n",
       "3                청과  \n",
       "4                청과  \n",
       "..              ...  \n",
       "170             H&B  \n",
       "171              문구  \n",
       "172              잡화  \n",
       "173            언더웨어  \n",
       "174             스포츠  \n",
       "\n",
       "[175 rows x 12 columns]"
      ],
      "text/html": "<div>\n<style scoped>\n    .dataframe tbody tr th:only-of-type {\n        vertical-align: middle;\n    }\n\n    .dataframe tbody tr th {\n        vertical-align: top;\n    }\n\n    .dataframe thead th {\n        text-align: right;\n    }\n</style>\n<table border=\"1\" class=\"dataframe\">\n  <thead>\n    <tr style=\"text-align: right;\">\n      <th></th>\n      <th>리피터 ID</th>\n      <th>X 좌표</th>\n      <th>Y 좌표</th>\n      <th>POG 그룹 ID</th>\n      <th>스타트 여부</th>\n      <th>POS 여부</th>\n      <th>사용 강도</th>\n      <th>사용여부</th>\n      <th>상품 여부</th>\n      <th>가중치</th>\n      <th>리포트에 보여줄지에 대한 여부</th>\n      <th>POG 이름</th>\n    </tr>\n  </thead>\n  <tbody>\n    <tr>\n      <th>0</th>\n      <td>REPEATER_ID</td>\n      <td>X_Coord</td>\n      <td>Y_Coord</td>\n      <td>POG_GROUP_ID</td>\n      <td>IS_START</td>\n      <td>IS_END</td>\n      <td>USE_STRENGTH</td>\n      <td>USE_YN</td>\n      <td>ITEM_SALE_YN</td>\n      <td>POINT_LEVEL</td>\n      <td>REPORT_USE_YN</td>\n      <td>POG_GROUP_DESC</td>\n    </tr>\n    <tr>\n      <th>1</th>\n      <td>1001</td>\n      <td>50</td>\n      <td>568</td>\n      <td>00000</td>\n      <td>Y</td>\n      <td>N</td>\n      <td>0</td>\n      <td>Y</td>\n      <td>N</td>\n      <td>3</td>\n      <td>N</td>\n      <td>NaN</td>\n    </tr>\n    <tr>\n      <th>2</th>\n      <td>1002</td>\n      <td>50</td>\n      <td>593</td>\n      <td>00000</td>\n      <td>Y</td>\n      <td>N</td>\n      <td>0</td>\n      <td>Y</td>\n      <td>N</td>\n      <td>3</td>\n      <td>N</td>\n      <td>NaN</td>\n    </tr>\n    <tr>\n      <th>3</th>\n      <td>1003</td>\n      <td>149</td>\n      <td>556</td>\n      <td>11101</td>\n      <td>N</td>\n      <td>N</td>\n      <td>0</td>\n      <td>Y</td>\n      <td>Y</td>\n      <td>3</td>\n      <td>Y</td>\n      <td>청과</td>\n    </tr>\n    <tr>\n      <th>4</th>\n      <td>1004</td>\n      <td>150</td>\n      <td>593</td>\n      <td>11101</td>\n      <td>N</td>\n      <td>N</td>\n      <td>0</td>\n      <td>Y</td>\n      <td>Y</td>\n      <td>3</td>\n      <td>Y</td>\n      <td>청과</td>\n    </tr>\n    <tr>\n      <th>...</th>\n      <td>...</td>\n      <td>...</td>\n      <td>...</td>\n      <td>...</td>\n      <td>...</td>\n      <td>...</td>\n      <td>...</td>\n      <td>...</td>\n      <td>...</td>\n      <td>...</td>\n      <td>...</td>\n      <td>...</td>\n    </tr>\n    <tr>\n      <th>170</th>\n      <td>1302</td>\n      <td>122</td>\n      <td>279</td>\n      <td>23001</td>\n      <td>N</td>\n      <td>N</td>\n      <td>0</td>\n      <td>Y</td>\n      <td>Y</td>\n      <td>3</td>\n      <td>N</td>\n      <td>H&amp;B</td>\n    </tr>\n    <tr>\n      <th>171</th>\n      <td>1303</td>\n      <td>101</td>\n      <td>138</td>\n      <td>25301</td>\n      <td>N</td>\n      <td>N</td>\n      <td>0</td>\n      <td>Y</td>\n      <td>Y</td>\n      <td>3</td>\n      <td>N</td>\n      <td>문구</td>\n    </tr>\n    <tr>\n      <th>172</th>\n      <td>1304</td>\n      <td>173</td>\n      <td>279</td>\n      <td>47001</td>\n      <td>N</td>\n      <td>N</td>\n      <td>0</td>\n      <td>Y</td>\n      <td>Y</td>\n      <td>3</td>\n      <td>N</td>\n      <td>잡화</td>\n    </tr>\n    <tr>\n      <th>173</th>\n      <td>1305</td>\n      <td>213</td>\n      <td>209</td>\n      <td>51001</td>\n      <td>N</td>\n      <td>N</td>\n      <td>0</td>\n      <td>Y</td>\n      <td>Y</td>\n      <td>3</td>\n      <td>N</td>\n      <td>언더웨어</td>\n    </tr>\n    <tr>\n      <th>174</th>\n      <td>1306</td>\n      <td>74</td>\n      <td>138</td>\n      <td>54001</td>\n      <td>N</td>\n      <td>N</td>\n      <td>0</td>\n      <td>Y</td>\n      <td>Y</td>\n      <td>3</td>\n      <td>N</td>\n      <td>스포츠</td>\n    </tr>\n  </tbody>\n</table>\n<p>175 rows × 12 columns</p>\n</div>"
     },
     "metadata": {},
     "execution_count": 116
    }
   ],
   "source": [
    "mer_df\n"
   ]
  },
  {
   "cell_type": "code",
   "execution_count": 114,
   "metadata": {},
   "outputs": [
    {
     "output_type": "execute_result",
     "data": {
      "text/plain": [
       "         SINK ID 태그 ID TAG 강도 리피터 ID                     저장시간\n",
       "0            142   047      1   1054  2011-02-08 01:58:23.610\n",
       "1            150   047      1   1151  2011-02-08 01:58:32.483\n",
       "2            150   047      0   1047  2011-02-08 01:58:34.110\n",
       "3            150   047      1   1047  2011-02-08 01:58:34.657\n",
       "4            150   047      1   1047  2011-02-08 01:58:35.483\n",
       "...          ...   ...    ...    ...                      ...\n",
       "5051407      152    52      1   1168  2011-02-07 23:56:31.547\n",
       "5051408      155    52      1   1168  2011-02-07 23:56:31.670\n",
       "5051409      152    52      1   1168  2011-02-07 23:56:36.703\n",
       "5051410      152    52      1   1168  2011-02-07 23:56:39.767\n",
       "5051411      152    52      1   1168  2011-02-07 23:56:40.750\n",
       "\n",
       "[8444258 rows x 5 columns]"
      ],
      "text/html": "<div>\n<style scoped>\n    .dataframe tbody tr th:only-of-type {\n        vertical-align: middle;\n    }\n\n    .dataframe tbody tr th {\n        vertical-align: top;\n    }\n\n    .dataframe thead th {\n        text-align: right;\n    }\n</style>\n<table border=\"1\" class=\"dataframe\">\n  <thead>\n    <tr style=\"text-align: right;\">\n      <th></th>\n      <th>SINK ID</th>\n      <th>태그 ID</th>\n      <th>TAG 강도</th>\n      <th>리피터 ID</th>\n      <th>저장시간</th>\n    </tr>\n  </thead>\n  <tbody>\n    <tr>\n      <th>0</th>\n      <td>142</td>\n      <td>047</td>\n      <td>1</td>\n      <td>1054</td>\n      <td>2011-02-08 01:58:23.610</td>\n    </tr>\n    <tr>\n      <th>1</th>\n      <td>150</td>\n      <td>047</td>\n      <td>1</td>\n      <td>1151</td>\n      <td>2011-02-08 01:58:32.483</td>\n    </tr>\n    <tr>\n      <th>2</th>\n      <td>150</td>\n      <td>047</td>\n      <td>0</td>\n      <td>1047</td>\n      <td>2011-02-08 01:58:34.110</td>\n    </tr>\n    <tr>\n      <th>3</th>\n      <td>150</td>\n      <td>047</td>\n      <td>1</td>\n      <td>1047</td>\n      <td>2011-02-08 01:58:34.657</td>\n    </tr>\n    <tr>\n      <th>4</th>\n      <td>150</td>\n      <td>047</td>\n      <td>1</td>\n      <td>1047</td>\n      <td>2011-02-08 01:58:35.483</td>\n    </tr>\n    <tr>\n      <th>...</th>\n      <td>...</td>\n      <td>...</td>\n      <td>...</td>\n      <td>...</td>\n      <td>...</td>\n    </tr>\n    <tr>\n      <th>5051407</th>\n      <td>152</td>\n      <td>52</td>\n      <td>1</td>\n      <td>1168</td>\n      <td>2011-02-07 23:56:31.547</td>\n    </tr>\n    <tr>\n      <th>5051408</th>\n      <td>155</td>\n      <td>52</td>\n      <td>1</td>\n      <td>1168</td>\n      <td>2011-02-07 23:56:31.670</td>\n    </tr>\n    <tr>\n      <th>5051409</th>\n      <td>152</td>\n      <td>52</td>\n      <td>1</td>\n      <td>1168</td>\n      <td>2011-02-07 23:56:36.703</td>\n    </tr>\n    <tr>\n      <th>5051410</th>\n      <td>152</td>\n      <td>52</td>\n      <td>1</td>\n      <td>1168</td>\n      <td>2011-02-07 23:56:39.767</td>\n    </tr>\n    <tr>\n      <th>5051411</th>\n      <td>152</td>\n      <td>52</td>\n      <td>1</td>\n      <td>1168</td>\n      <td>2011-02-07 23:56:40.750</td>\n    </tr>\n  </tbody>\n</table>\n<p>8444258 rows × 5 columns</p>\n</div>"
     },
     "metadata": {},
     "execution_count": 114
    }
   ],
   "source": [
    "moving"
   ]
  },
  {
   "cell_type": "code",
   "execution_count": 392,
   "metadata": {},
   "outputs": [
    {
     "output_type": "stream",
     "name": "stderr",
     "text": [
      "  0%|          | 2/13865 [00:03<7:10:58,  1.87s/it]\n"
     ]
    },
    {
     "output_type": "error",
     "ename": "KeyboardInterrupt",
     "evalue": "",
     "traceback": [
      "\u001b[0;31m---------------------------------------------------------------------------\u001b[0m",
      "\u001b[0;31mKeyboardInterrupt\u001b[0m                         Traceback (most recent call last)",
      "\u001b[0;32m<ipython-input-392-60587f95955b>\u001b[0m in \u001b[0;36m<module>\u001b[0;34m\u001b[0m\n\u001b[1;32m      2\u001b[0m \u001b[0;31m# this process take many time,\u001b[0m\u001b[0;34m\u001b[0m\u001b[0;34m\u001b[0m\u001b[0;34m\u001b[0m\u001b[0m\n\u001b[1;32m      3\u001b[0m \u001b[0;32mfor\u001b[0m \u001b[0mi\u001b[0m \u001b[0;32min\u001b[0m \u001b[0mtqdm\u001b[0m\u001b[0;34m(\u001b[0m\u001b[0mrange\u001b[0m\u001b[0;34m(\u001b[0m\u001b[0;36m1\u001b[0m\u001b[0;34m,\u001b[0m\u001b[0mlen\u001b[0m\u001b[0;34m(\u001b[0m\u001b[0mshoping\u001b[0m\u001b[0;34m)\u001b[0m\u001b[0;34m)\u001b[0m\u001b[0;34m)\u001b[0m\u001b[0;34m:\u001b[0m\u001b[0;34m\u001b[0m\u001b[0;34m\u001b[0m\u001b[0m\n\u001b[0;32m----> 4\u001b[0;31m     \u001b[0msample\u001b[0m \u001b[0;34m=\u001b[0m \u001b[0mmoving\u001b[0m\u001b[0;34m[\u001b[0m\u001b[0;34m(\u001b[0m\u001b[0mmoving\u001b[0m\u001b[0;34m.\u001b[0m\u001b[0m저장시간\u001b[0m \u001b[0;34m>=\u001b[0m \u001b[0mshoping\u001b[0m\u001b[0;34m.\u001b[0m\u001b[0mloc\u001b[0m\u001b[0;34m[\u001b[0m\u001b[0mi\u001b[0m\u001b[0;34m,\u001b[0m\u001b[0;34m\"쇼핑 시작시간\"\u001b[0m\u001b[0;34m]\u001b[0m\u001b[0;34m)\u001b[0m \u001b[0;34m&\u001b[0m \u001b[0;34m(\u001b[0m\u001b[0mmoving\u001b[0m\u001b[0;34m.\u001b[0m\u001b[0m저장시간\u001b[0m \u001b[0;34m<=\u001b[0m \u001b[0mshoping\u001b[0m\u001b[0;34m.\u001b[0m\u001b[0mloc\u001b[0m\u001b[0;34m[\u001b[0m\u001b[0mi\u001b[0m\u001b[0;34m,\u001b[0m\u001b[0;34m\"쇼핑 종료 시간\"\u001b[0m\u001b[0;34m]\u001b[0m\u001b[0;34m)\u001b[0m \u001b[0;34m&\u001b[0m \u001b[0;34m(\u001b[0m\u001b[0mmoving\u001b[0m\u001b[0;34m[\u001b[0m\u001b[0;34m\"태그 ID\"\u001b[0m\u001b[0;34m]\u001b[0m \u001b[0;34m==\u001b[0m\u001b[0mshoping\u001b[0m\u001b[0;34m.\u001b[0m\u001b[0mloc\u001b[0m\u001b[0;34m[\u001b[0m\u001b[0mi\u001b[0m\u001b[0;34m,\u001b[0m \u001b[0;34m\"태그 ID\"\u001b[0m\u001b[0;34m]\u001b[0m\u001b[0;34m)\u001b[0m\u001b[0;34m]\u001b[0m\u001b[0;34m.\u001b[0m\u001b[0mcopy\u001b[0m\u001b[0;34m(\u001b[0m\u001b[0;34m)\u001b[0m\u001b[0;34m\u001b[0m\u001b[0;34m\u001b[0m\u001b[0m\n\u001b[0m\u001b[1;32m      5\u001b[0m     \u001b[0;32mif\u001b[0m \u001b[0mlen\u001b[0m\u001b[0;34m(\u001b[0m\u001b[0msample\u001b[0m\u001b[0;34m)\u001b[0m \u001b[0;34m==\u001b[0m \u001b[0;36m0\u001b[0m\u001b[0;34m:\u001b[0m\u001b[0;34m\u001b[0m\u001b[0;34m\u001b[0m\u001b[0m\n\u001b[1;32m      6\u001b[0m         \u001b[0;32mpass\u001b[0m\u001b[0;34m\u001b[0m\u001b[0;34m\u001b[0m\u001b[0m\n",
      "\u001b[0;32m~/.conda/envs/jk_lab/lib/python3.7/site-packages/pandas/core/ops/common.py\u001b[0m in \u001b[0;36mnew_method\u001b[0;34m(self, other)\u001b[0m\n\u001b[1;32m     63\u001b[0m         \u001b[0mother\u001b[0m \u001b[0;34m=\u001b[0m \u001b[0mitem_from_zerodim\u001b[0m\u001b[0;34m(\u001b[0m\u001b[0mother\u001b[0m\u001b[0;34m)\u001b[0m\u001b[0;34m\u001b[0m\u001b[0;34m\u001b[0m\u001b[0m\n\u001b[1;32m     64\u001b[0m \u001b[0;34m\u001b[0m\u001b[0m\n\u001b[0;32m---> 65\u001b[0;31m         \u001b[0;32mreturn\u001b[0m \u001b[0mmethod\u001b[0m\u001b[0;34m(\u001b[0m\u001b[0mself\u001b[0m\u001b[0;34m,\u001b[0m \u001b[0mother\u001b[0m\u001b[0;34m)\u001b[0m\u001b[0;34m\u001b[0m\u001b[0;34m\u001b[0m\u001b[0m\n\u001b[0m\u001b[1;32m     66\u001b[0m \u001b[0;34m\u001b[0m\u001b[0m\n\u001b[1;32m     67\u001b[0m     \u001b[0;32mreturn\u001b[0m \u001b[0mnew_method\u001b[0m\u001b[0;34m\u001b[0m\u001b[0;34m\u001b[0m\u001b[0m\n",
      "\u001b[0;32m~/.conda/envs/jk_lab/lib/python3.7/site-packages/pandas/core/ops/__init__.py\u001b[0m in \u001b[0;36mwrapper\u001b[0;34m(self, other)\u001b[0m\n\u001b[1;32m    368\u001b[0m         \u001b[0mrvalues\u001b[0m \u001b[0;34m=\u001b[0m \u001b[0mextract_array\u001b[0m\u001b[0;34m(\u001b[0m\u001b[0mother\u001b[0m\u001b[0;34m,\u001b[0m \u001b[0mextract_numpy\u001b[0m\u001b[0;34m=\u001b[0m\u001b[0;32mTrue\u001b[0m\u001b[0;34m)\u001b[0m\u001b[0;34m\u001b[0m\u001b[0;34m\u001b[0m\u001b[0m\n\u001b[1;32m    369\u001b[0m \u001b[0;34m\u001b[0m\u001b[0m\n\u001b[0;32m--> 370\u001b[0;31m         \u001b[0mres_values\u001b[0m \u001b[0;34m=\u001b[0m \u001b[0mcomparison_op\u001b[0m\u001b[0;34m(\u001b[0m\u001b[0mlvalues\u001b[0m\u001b[0;34m,\u001b[0m \u001b[0mrvalues\u001b[0m\u001b[0;34m,\u001b[0m \u001b[0mop\u001b[0m\u001b[0;34m)\u001b[0m\u001b[0;34m\u001b[0m\u001b[0;34m\u001b[0m\u001b[0m\n\u001b[0m\u001b[1;32m    371\u001b[0m \u001b[0;34m\u001b[0m\u001b[0m\n\u001b[1;32m    372\u001b[0m         \u001b[0;32mreturn\u001b[0m \u001b[0mself\u001b[0m\u001b[0;34m.\u001b[0m\u001b[0m_construct_result\u001b[0m\u001b[0;34m(\u001b[0m\u001b[0mres_values\u001b[0m\u001b[0;34m,\u001b[0m \u001b[0mname\u001b[0m\u001b[0;34m=\u001b[0m\u001b[0mres_name\u001b[0m\u001b[0;34m)\u001b[0m\u001b[0;34m\u001b[0m\u001b[0;34m\u001b[0m\u001b[0m\n",
      "\u001b[0;32m~/.conda/envs/jk_lab/lib/python3.7/site-packages/pandas/core/ops/array_ops.py\u001b[0m in \u001b[0;36mcomparison_op\u001b[0;34m(left, right, op)\u001b[0m\n\u001b[1;32m    237\u001b[0m \u001b[0;34m\u001b[0m\u001b[0m\n\u001b[1;32m    238\u001b[0m     \u001b[0;32melif\u001b[0m \u001b[0mis_object_dtype\u001b[0m\u001b[0;34m(\u001b[0m\u001b[0mlvalues\u001b[0m\u001b[0;34m.\u001b[0m\u001b[0mdtype\u001b[0m\u001b[0;34m)\u001b[0m\u001b[0;34m:\u001b[0m\u001b[0;34m\u001b[0m\u001b[0;34m\u001b[0m\u001b[0m\n\u001b[0;32m--> 239\u001b[0;31m         \u001b[0mres_values\u001b[0m \u001b[0;34m=\u001b[0m \u001b[0mcomp_method_OBJECT_ARRAY\u001b[0m\u001b[0;34m(\u001b[0m\u001b[0mop\u001b[0m\u001b[0;34m,\u001b[0m \u001b[0mlvalues\u001b[0m\u001b[0;34m,\u001b[0m \u001b[0mrvalues\u001b[0m\u001b[0;34m)\u001b[0m\u001b[0;34m\u001b[0m\u001b[0;34m\u001b[0m\u001b[0m\n\u001b[0m\u001b[1;32m    240\u001b[0m \u001b[0;34m\u001b[0m\u001b[0m\n\u001b[1;32m    241\u001b[0m     \u001b[0;32melse\u001b[0m\u001b[0;34m:\u001b[0m\u001b[0;34m\u001b[0m\u001b[0;34m\u001b[0m\u001b[0m\n",
      "\u001b[0;32m~/.conda/envs/jk_lab/lib/python3.7/site-packages/pandas/core/ops/array_ops.py\u001b[0m in \u001b[0;36mcomp_method_OBJECT_ARRAY\u001b[0;34m(op, x, y)\u001b[0m\n\u001b[1;32m     53\u001b[0m         \u001b[0mresult\u001b[0m \u001b[0;34m=\u001b[0m \u001b[0mlibops\u001b[0m\u001b[0;34m.\u001b[0m\u001b[0mvec_compare\u001b[0m\u001b[0;34m(\u001b[0m\u001b[0mx\u001b[0m\u001b[0;34m.\u001b[0m\u001b[0mravel\u001b[0m\u001b[0;34m(\u001b[0m\u001b[0;34m)\u001b[0m\u001b[0;34m,\u001b[0m \u001b[0my\u001b[0m\u001b[0;34m.\u001b[0m\u001b[0mravel\u001b[0m\u001b[0;34m(\u001b[0m\u001b[0;34m)\u001b[0m\u001b[0;34m,\u001b[0m \u001b[0mop\u001b[0m\u001b[0;34m)\u001b[0m\u001b[0;34m\u001b[0m\u001b[0;34m\u001b[0m\u001b[0m\n\u001b[1;32m     54\u001b[0m     \u001b[0;32melse\u001b[0m\u001b[0;34m:\u001b[0m\u001b[0;34m\u001b[0m\u001b[0;34m\u001b[0m\u001b[0m\n\u001b[0;32m---> 55\u001b[0;31m         \u001b[0mresult\u001b[0m \u001b[0;34m=\u001b[0m \u001b[0mlibops\u001b[0m\u001b[0;34m.\u001b[0m\u001b[0mscalar_compare\u001b[0m\u001b[0;34m(\u001b[0m\u001b[0mx\u001b[0m\u001b[0;34m.\u001b[0m\u001b[0mravel\u001b[0m\u001b[0;34m(\u001b[0m\u001b[0;34m)\u001b[0m\u001b[0;34m,\u001b[0m \u001b[0my\u001b[0m\u001b[0;34m,\u001b[0m \u001b[0mop\u001b[0m\u001b[0;34m)\u001b[0m\u001b[0;34m\u001b[0m\u001b[0;34m\u001b[0m\u001b[0m\n\u001b[0m\u001b[1;32m     56\u001b[0m     \u001b[0;32mreturn\u001b[0m \u001b[0mresult\u001b[0m\u001b[0;34m.\u001b[0m\u001b[0mreshape\u001b[0m\u001b[0;34m(\u001b[0m\u001b[0mx\u001b[0m\u001b[0;34m.\u001b[0m\u001b[0mshape\u001b[0m\u001b[0;34m)\u001b[0m\u001b[0;34m\u001b[0m\u001b[0;34m\u001b[0m\u001b[0m\n\u001b[1;32m     57\u001b[0m \u001b[0;34m\u001b[0m\u001b[0m\n",
      "\u001b[0;31mKeyboardInterrupt\u001b[0m: "
     ]
    }
   ],
   "source": [
    "to_shop = pd.DataFrame()\n",
    "# this process take many time,\n",
    "for i in tqdm(range(1,len(shoping))):\n",
    "    sample = moving[(moving.저장시간 >= shoping.loc[i,\"쇼핑 시작시간\"]) & (moving.저장시간 <= shoping.loc[i,\"쇼핑 종료 시간\"]) & (moving[\"태그 ID\"] ==shoping.loc[i, \"태그 ID\"])].copy()\n",
    "    if len(sample) == 0:\n",
    "        pass\n",
    "    else:\n",
    "        sample.sort_values(by = \"저장시간\", inplace = True)\n",
    "        sample = pd.merge(sample, repeater, on = \"리피터 ID\", how = \"left\")\n",
    "        sample[\"쇼핑 ID\"] = [shoping.loc[i, \"쇼핑 ID\"]]*len(sample)\n",
    "        to_shop = to_shop.append(sample)\n",
    "#to_shop.to_csv(\"동선_전처리_0222_0220.csv\", index = False)\n"
   ]
  },
  {
   "cell_type": "code",
   "execution_count": 542,
   "metadata": {},
   "outputs": [],
   "source": [
    "fdf = pd.read_csv(\"/home/shinjk1156/Project_code/Retail_Project/Code/Preprocessing/Data/동선_전처리_0122_0220_final.csv\")"
   ]
  },
  {
   "cell_type": "code",
   "execution_count": 543,
   "metadata": {},
   "outputs": [
    {
     "output_type": "execute_result",
     "data": {
      "text/plain": [
       "         SINK ID  태그 ID  TAG 강도 리피터 ID                     저장시간   X 좌표   Y 좌표  \\\n",
       "0            157      1       1   1001  2011-01-22 15:04:43.467   50.0  568.0   \n",
       "1            153      1       1   1006  2011-01-22 15:04:50.297  108.0  593.0   \n",
       "2            153      1       1   1006  2011-01-22 15:04:51.467  108.0  593.0   \n",
       "3            156      1       1   1005  2011-01-22 15:04:53.420  182.0  593.0   \n",
       "4            152      1       1   1022  2011-01-22 15:05:01.517  213.0  593.0   \n",
       "...          ...    ...     ...    ...                      ...    ...    ...   \n",
       "4148213      141    200       1   1205  2011-02-20 14:47:15.110   31.0  235.0   \n",
       "4148214      141    200       1   1205  2011-02-20 14:47:51.093   31.0  235.0   \n",
       "4148215      141    200       1   1205  2011-02-20 14:47:52.187   31.0  235.0   \n",
       "4148216      141    200       1   1205  2011-02-20 14:47:53.170   31.0  235.0   \n",
       "4148217      141    200       1   1210  2011-02-20 14:49:44.967   31.0  314.0   \n",
       "\n",
       "         POG 그룹 ID 스타트 여부 POS 여부  사용 강도 사용여부 상품 여부  가중치 리포트에 보여줄지에 대한 여부  \\\n",
       "0              0.0      Y      N    0.0    Y     N  3.0                N   \n",
       "1          11101.0      N      N    0.0    Y     Y  3.0                Y   \n",
       "2          11101.0      N      N    0.0    Y     Y  3.0                Y   \n",
       "3          14601.0      N      N    0.0    Y     Y  3.0                Y   \n",
       "4          14601.0      N      N    0.0    Y     Y  3.0                Y   \n",
       "...            ...    ...    ...    ...  ...   ...  ...              ...   \n",
       "4148213        1.0      N      Y    0.0    Y     N  3.0                N   \n",
       "4148214        1.0      N      Y    0.0    Y     N  3.0                N   \n",
       "4148215        1.0      N      Y    0.0    Y     N  3.0                N   \n",
       "4148216        1.0      N      Y    0.0    Y     N  3.0                N   \n",
       "4148217        6.0      N      Y    0.0    Y     N  3.0                N   \n",
       "\n",
       "         쇼핑 ID  \n",
       "0            1  \n",
       "1            1  \n",
       "2            1  \n",
       "3            1  \n",
       "4            1  \n",
       "...        ...  \n",
       "4148213  26045  \n",
       "4148214  26045  \n",
       "4148215  26045  \n",
       "4148216  26045  \n",
       "4148217  26045  \n",
       "\n",
       "[4148218 rows x 16 columns]"
      ],
      "text/html": "<div>\n<style scoped>\n    .dataframe tbody tr th:only-of-type {\n        vertical-align: middle;\n    }\n\n    .dataframe tbody tr th {\n        vertical-align: top;\n    }\n\n    .dataframe thead th {\n        text-align: right;\n    }\n</style>\n<table border=\"1\" class=\"dataframe\">\n  <thead>\n    <tr style=\"text-align: right;\">\n      <th></th>\n      <th>SINK ID</th>\n      <th>태그 ID</th>\n      <th>TAG 강도</th>\n      <th>리피터 ID</th>\n      <th>저장시간</th>\n      <th>X 좌표</th>\n      <th>Y 좌표</th>\n      <th>POG 그룹 ID</th>\n      <th>스타트 여부</th>\n      <th>POS 여부</th>\n      <th>사용 강도</th>\n      <th>사용여부</th>\n      <th>상품 여부</th>\n      <th>가중치</th>\n      <th>리포트에 보여줄지에 대한 여부</th>\n      <th>쇼핑 ID</th>\n    </tr>\n  </thead>\n  <tbody>\n    <tr>\n      <th>0</th>\n      <td>157</td>\n      <td>1</td>\n      <td>1</td>\n      <td>1001</td>\n      <td>2011-01-22 15:04:43.467</td>\n      <td>50.0</td>\n      <td>568.0</td>\n      <td>0.0</td>\n      <td>Y</td>\n      <td>N</td>\n      <td>0.0</td>\n      <td>Y</td>\n      <td>N</td>\n      <td>3.0</td>\n      <td>N</td>\n      <td>1</td>\n    </tr>\n    <tr>\n      <th>1</th>\n      <td>153</td>\n      <td>1</td>\n      <td>1</td>\n      <td>1006</td>\n      <td>2011-01-22 15:04:50.297</td>\n      <td>108.0</td>\n      <td>593.0</td>\n      <td>11101.0</td>\n      <td>N</td>\n      <td>N</td>\n      <td>0.0</td>\n      <td>Y</td>\n      <td>Y</td>\n      <td>3.0</td>\n      <td>Y</td>\n      <td>1</td>\n    </tr>\n    <tr>\n      <th>2</th>\n      <td>153</td>\n      <td>1</td>\n      <td>1</td>\n      <td>1006</td>\n      <td>2011-01-22 15:04:51.467</td>\n      <td>108.0</td>\n      <td>593.0</td>\n      <td>11101.0</td>\n      <td>N</td>\n      <td>N</td>\n      <td>0.0</td>\n      <td>Y</td>\n      <td>Y</td>\n      <td>3.0</td>\n      <td>Y</td>\n      <td>1</td>\n    </tr>\n    <tr>\n      <th>3</th>\n      <td>156</td>\n      <td>1</td>\n      <td>1</td>\n      <td>1005</td>\n      <td>2011-01-22 15:04:53.420</td>\n      <td>182.0</td>\n      <td>593.0</td>\n      <td>14601.0</td>\n      <td>N</td>\n      <td>N</td>\n      <td>0.0</td>\n      <td>Y</td>\n      <td>Y</td>\n      <td>3.0</td>\n      <td>Y</td>\n      <td>1</td>\n    </tr>\n    <tr>\n      <th>4</th>\n      <td>152</td>\n      <td>1</td>\n      <td>1</td>\n      <td>1022</td>\n      <td>2011-01-22 15:05:01.517</td>\n      <td>213.0</td>\n      <td>593.0</td>\n      <td>14601.0</td>\n      <td>N</td>\n      <td>N</td>\n      <td>0.0</td>\n      <td>Y</td>\n      <td>Y</td>\n      <td>3.0</td>\n      <td>Y</td>\n      <td>1</td>\n    </tr>\n    <tr>\n      <th>...</th>\n      <td>...</td>\n      <td>...</td>\n      <td>...</td>\n      <td>...</td>\n      <td>...</td>\n      <td>...</td>\n      <td>...</td>\n      <td>...</td>\n      <td>...</td>\n      <td>...</td>\n      <td>...</td>\n      <td>...</td>\n      <td>...</td>\n      <td>...</td>\n      <td>...</td>\n      <td>...</td>\n    </tr>\n    <tr>\n      <th>4148213</th>\n      <td>141</td>\n      <td>200</td>\n      <td>1</td>\n      <td>1205</td>\n      <td>2011-02-20 14:47:15.110</td>\n      <td>31.0</td>\n      <td>235.0</td>\n      <td>1.0</td>\n      <td>N</td>\n      <td>Y</td>\n      <td>0.0</td>\n      <td>Y</td>\n      <td>N</td>\n      <td>3.0</td>\n      <td>N</td>\n      <td>26045</td>\n    </tr>\n    <tr>\n      <th>4148214</th>\n      <td>141</td>\n      <td>200</td>\n      <td>1</td>\n      <td>1205</td>\n      <td>2011-02-20 14:47:51.093</td>\n      <td>31.0</td>\n      <td>235.0</td>\n      <td>1.0</td>\n      <td>N</td>\n      <td>Y</td>\n      <td>0.0</td>\n      <td>Y</td>\n      <td>N</td>\n      <td>3.0</td>\n      <td>N</td>\n      <td>26045</td>\n    </tr>\n    <tr>\n      <th>4148215</th>\n      <td>141</td>\n      <td>200</td>\n      <td>1</td>\n      <td>1205</td>\n      <td>2011-02-20 14:47:52.187</td>\n      <td>31.0</td>\n      <td>235.0</td>\n      <td>1.0</td>\n      <td>N</td>\n      <td>Y</td>\n      <td>0.0</td>\n      <td>Y</td>\n      <td>N</td>\n      <td>3.0</td>\n      <td>N</td>\n      <td>26045</td>\n    </tr>\n    <tr>\n      <th>4148216</th>\n      <td>141</td>\n      <td>200</td>\n      <td>1</td>\n      <td>1205</td>\n      <td>2011-02-20 14:47:53.170</td>\n      <td>31.0</td>\n      <td>235.0</td>\n      <td>1.0</td>\n      <td>N</td>\n      <td>Y</td>\n      <td>0.0</td>\n      <td>Y</td>\n      <td>N</td>\n      <td>3.0</td>\n      <td>N</td>\n      <td>26045</td>\n    </tr>\n    <tr>\n      <th>4148217</th>\n      <td>141</td>\n      <td>200</td>\n      <td>1</td>\n      <td>1210</td>\n      <td>2011-02-20 14:49:44.967</td>\n      <td>31.0</td>\n      <td>314.0</td>\n      <td>6.0</td>\n      <td>N</td>\n      <td>Y</td>\n      <td>0.0</td>\n      <td>Y</td>\n      <td>N</td>\n      <td>3.0</td>\n      <td>N</td>\n      <td>26045</td>\n    </tr>\n  </tbody>\n</table>\n<p>4148218 rows × 16 columns</p>\n</div>"
     },
     "metadata": {},
     "execution_count": 543
    }
   ],
   "source": [
    "fdf"
   ]
  },
  {
   "cell_type": "code",
   "execution_count": 544,
   "metadata": {},
   "outputs": [],
   "source": [
    "#fdf = to_shop.copy()\n",
    "fdf.drop(columns = [\"사용 강도\", \"상품 여부\",\"가중치\",\"리포트에 보여줄지에 대한 여부\",\"스타트 여부\",\"사용여부\",\"POS 여부\", \"TAG 강도\"], inplace = True)\n",
    "fdf.dropna(inplace = True)"
   ]
  },
  {
   "cell_type": "code",
   "execution_count": 545,
   "metadata": {},
   "outputs": [
    {
     "output_type": "execute_result",
     "data": {
      "text/plain": [
       "            자체상품코드             상품명 DIV_CD DEPT_CD SECTION_CD CLASS_CD  \\\n",
       "1       0000023000            부사대표     17     132       1262    10296   \n",
       "2       0000130000    한우정육(국내산2등급)     71     800       7353    67861   \n",
       "3       0000222000         종가집나박김치     23     818       7448    68379   \n",
       "4       0000312000           햇사과대표     17     132       1262    20001   \n",
       "5       0000335000         고산지 바나나     17     133       1285    67166   \n",
       "...            ...             ...    ...     ...        ...      ...   \n",
       "538636  9900010000  롯데백화점PP카드일십만원권     99     904       9005    90008   \n",
       "538637  9900011000       롯데예식장(예식)     99     905       9006    90009   \n",
       "538638  9900013000      엘지주유권50000     99     903       9003    90006   \n",
       "538639  9900052000          계란(할인)     72     805       7378    67991   \n",
       "538640  9900053000          청과(할인)     17     381       9917    99917   \n",
       "\n",
       "       DIV_NAME DEPT_NAME SECTION_NAME  \\\n",
       "1            과일      국산과일           사과   \n",
       "2           소고기        우육           한우   \n",
       "3          조리식품      특정반찬           김치   \n",
       "4            과일      국산과일           사과   \n",
       "5            과일      수입과일          바나나   \n",
       "...         ...       ...          ...   \n",
       "538636       기타    P.P 카드    자사 P.P 카드   \n",
       "538637       기타        기타           기타   \n",
       "538638       기타       상품권        타사상품권   \n",
       "538639      닭고기        계란          일반란   \n",
       "538640       과일      과일처분         과일처분   \n",
       "\n",
       "                                              CLASS_NAME  \n",
       "1       부사                                                \n",
       "2         한우정육                                            \n",
       "3         일반김치                                            \n",
       "4        햇사과                                              \n",
       "5            프리미엄바나나                                      \n",
       "...                                                  ...  \n",
       "538636       롯데백화점P.P 카드                                  \n",
       "538637  기타                                                \n",
       "538638     타사상품권                                          \n",
       "538639  판란                                                \n",
       "538640    청과처분                                            \n",
       "\n",
       "[538640 rows x 10 columns]"
      ],
      "text/html": "<div>\n<style scoped>\n    .dataframe tbody tr th:only-of-type {\n        vertical-align: middle;\n    }\n\n    .dataframe tbody tr th {\n        vertical-align: top;\n    }\n\n    .dataframe thead th {\n        text-align: right;\n    }\n</style>\n<table border=\"1\" class=\"dataframe\">\n  <thead>\n    <tr style=\"text-align: right;\">\n      <th></th>\n      <th>자체상품코드</th>\n      <th>상품명</th>\n      <th>DIV_CD</th>\n      <th>DEPT_CD</th>\n      <th>SECTION_CD</th>\n      <th>CLASS_CD</th>\n      <th>DIV_NAME</th>\n      <th>DEPT_NAME</th>\n      <th>SECTION_NAME</th>\n      <th>CLASS_NAME</th>\n    </tr>\n  </thead>\n  <tbody>\n    <tr>\n      <th>1</th>\n      <td>0000023000</td>\n      <td>부사대표</td>\n      <td>17</td>\n      <td>132</td>\n      <td>1262</td>\n      <td>10296</td>\n      <td>과일</td>\n      <td>국산과일</td>\n      <td>사과</td>\n      <td>부사</td>\n    </tr>\n    <tr>\n      <th>2</th>\n      <td>0000130000</td>\n      <td>한우정육(국내산2등급)</td>\n      <td>71</td>\n      <td>800</td>\n      <td>7353</td>\n      <td>67861</td>\n      <td>소고기</td>\n      <td>우육</td>\n      <td>한우</td>\n      <td>한우정육</td>\n    </tr>\n    <tr>\n      <th>3</th>\n      <td>0000222000</td>\n      <td>종가집나박김치</td>\n      <td>23</td>\n      <td>818</td>\n      <td>7448</td>\n      <td>68379</td>\n      <td>조리식품</td>\n      <td>특정반찬</td>\n      <td>김치</td>\n      <td>일반김치</td>\n    </tr>\n    <tr>\n      <th>4</th>\n      <td>0000312000</td>\n      <td>햇사과대표</td>\n      <td>17</td>\n      <td>132</td>\n      <td>1262</td>\n      <td>20001</td>\n      <td>과일</td>\n      <td>국산과일</td>\n      <td>사과</td>\n      <td>햇사과</td>\n    </tr>\n    <tr>\n      <th>5</th>\n      <td>0000335000</td>\n      <td>고산지 바나나</td>\n      <td>17</td>\n      <td>133</td>\n      <td>1285</td>\n      <td>67166</td>\n      <td>과일</td>\n      <td>수입과일</td>\n      <td>바나나</td>\n      <td>프리미엄바나나</td>\n    </tr>\n    <tr>\n      <th>...</th>\n      <td>...</td>\n      <td>...</td>\n      <td>...</td>\n      <td>...</td>\n      <td>...</td>\n      <td>...</td>\n      <td>...</td>\n      <td>...</td>\n      <td>...</td>\n      <td>...</td>\n    </tr>\n    <tr>\n      <th>538636</th>\n      <td>9900010000</td>\n      <td>롯데백화점PP카드일십만원권</td>\n      <td>99</td>\n      <td>904</td>\n      <td>9005</td>\n      <td>90008</td>\n      <td>기타</td>\n      <td>P.P 카드</td>\n      <td>자사 P.P 카드</td>\n      <td>롯데백화점P.P 카드</td>\n    </tr>\n    <tr>\n      <th>538637</th>\n      <td>9900011000</td>\n      <td>롯데예식장(예식)</td>\n      <td>99</td>\n      <td>905</td>\n      <td>9006</td>\n      <td>90009</td>\n      <td>기타</td>\n      <td>기타</td>\n      <td>기타</td>\n      <td>기타</td>\n    </tr>\n    <tr>\n      <th>538638</th>\n      <td>9900013000</td>\n      <td>엘지주유권50000</td>\n      <td>99</td>\n      <td>903</td>\n      <td>9003</td>\n      <td>90006</td>\n      <td>기타</td>\n      <td>상품권</td>\n      <td>타사상품권</td>\n      <td>타사상품권</td>\n    </tr>\n    <tr>\n      <th>538639</th>\n      <td>9900052000</td>\n      <td>계란(할인)</td>\n      <td>72</td>\n      <td>805</td>\n      <td>7378</td>\n      <td>67991</td>\n      <td>닭고기</td>\n      <td>계란</td>\n      <td>일반란</td>\n      <td>판란</td>\n    </tr>\n    <tr>\n      <th>538640</th>\n      <td>9900053000</td>\n      <td>청과(할인)</td>\n      <td>17</td>\n      <td>381</td>\n      <td>9917</td>\n      <td>99917</td>\n      <td>과일</td>\n      <td>과일처분</td>\n      <td>과일처분</td>\n      <td>청과처분</td>\n    </tr>\n  </tbody>\n</table>\n<p>538640 rows × 10 columns</p>\n</div>"
     },
     "metadata": {},
     "execution_count": 545
    }
   ],
   "source": [
    "info_item = df[\"상품정보\"]\n",
    "info_cate = df[\"상품-카테고리\"]\n",
    "info_item.rename(columns = {\"DIVISION CODE\":\"DIV_CD\", \"DEPT CODE\" : \"DEPT_CD\", \"SECTION CODE\" : \"SECTION_CD\", \"CLASS CODE\" : \"CLASS_CD\"}, inplace= True)\n",
    "info_df = pd.merge(info_item, info_cate, on = [\"DIV_CD\", \"DEPT_CD\", \"SECTION_CD\", \"CLASS_CD\"], how = \"left\")\n",
    "info_df.drop(columns= [\"바코드번호\", \"판매 가격\"],index = 0 ,inplace= True)\n",
    "info_df"
   ]
  },
  {
   "cell_type": "code",
   "execution_count": 547,
   "metadata": {},
   "outputs": [
    {
     "output_type": "execute_result",
     "data": {
      "text/plain": [
       "    POG 그룹 ID DIV_CD      POG 그룹 이름\n",
       "1       10101     29             과자\n",
       "2       10102     32             세제\n",
       "3       10103     33           위생용품\n",
       "4       11101     17             청과\n",
       "5       11201     19             채소\n",
       "..        ...    ...            ...\n",
       "406     79603     65  홈/콘/모나카 아이스크림\n",
       "407     80501     72            닭고기\n",
       "427     81601     21         미역,다시마\n",
       "429     82602     38             수예\n",
       "432     85002     41             완구\n",
       "\n",
       "[118 rows x 3 columns]"
      ],
      "text/html": "<div>\n<style scoped>\n    .dataframe tbody tr th:only-of-type {\n        vertical-align: middle;\n    }\n\n    .dataframe tbody tr th {\n        vertical-align: top;\n    }\n\n    .dataframe thead th {\n        text-align: right;\n    }\n</style>\n<table border=\"1\" class=\"dataframe\">\n  <thead>\n    <tr style=\"text-align: right;\">\n      <th></th>\n      <th>POG 그룹 ID</th>\n      <th>DIV_CD</th>\n      <th>POG 그룹 이름</th>\n    </tr>\n  </thead>\n  <tbody>\n    <tr>\n      <th>1</th>\n      <td>10101</td>\n      <td>29</td>\n      <td>과자</td>\n    </tr>\n    <tr>\n      <th>2</th>\n      <td>10102</td>\n      <td>32</td>\n      <td>세제</td>\n    </tr>\n    <tr>\n      <th>3</th>\n      <td>10103</td>\n      <td>33</td>\n      <td>위생용품</td>\n    </tr>\n    <tr>\n      <th>4</th>\n      <td>11101</td>\n      <td>17</td>\n      <td>청과</td>\n    </tr>\n    <tr>\n      <th>5</th>\n      <td>11201</td>\n      <td>19</td>\n      <td>채소</td>\n    </tr>\n    <tr>\n      <th>...</th>\n      <td>...</td>\n      <td>...</td>\n      <td>...</td>\n    </tr>\n    <tr>\n      <th>406</th>\n      <td>79603</td>\n      <td>65</td>\n      <td>홈/콘/모나카 아이스크림</td>\n    </tr>\n    <tr>\n      <th>407</th>\n      <td>80501</td>\n      <td>72</td>\n      <td>닭고기</td>\n    </tr>\n    <tr>\n      <th>427</th>\n      <td>81601</td>\n      <td>21</td>\n      <td>미역,다시마</td>\n    </tr>\n    <tr>\n      <th>429</th>\n      <td>82602</td>\n      <td>38</td>\n      <td>수예</td>\n    </tr>\n    <tr>\n      <th>432</th>\n      <td>85002</td>\n      <td>41</td>\n      <td>완구</td>\n    </tr>\n  </tbody>\n</table>\n<p>118 rows × 3 columns</p>\n</div>"
     },
     "metadata": {},
     "execution_count": 547
    }
   ],
   "source": [
    "\n",
    "pog[\"POG 그룹 ID\"] = pog[\"POG 그룹 ID\"].map(str)\n",
    "pog_cate[\"POG 그룹 ID\"] = pog_cate[\"POG 그룹 ID\"].map(str)\n",
    "pog_df = pd.merge(pog_cate, pog, on=\"POG 그룹 ID\", how = \"left\")\n",
    "pog_df.rename(columns = {\"DIVISION\" : \"DIV_CD\", \"DEPT\" : \"DEPT_CD\", \"POG 이름_x\" : \"POG 이름\", \"POG 이름_y\":\"POG 그룹 이름\"}, inplace = True)\n",
    "pog_df.drop(index = 0, inplace = True)\n",
    "pog_df.drop(columns = [\"사용 유무\", \"POG ID\",\"POG 이름\",\"DEPT_CD\"], inplace = True)\n",
    "pog_df.drop_duplicates(inplace = True)\n",
    "pog_df"
   ]
  },
  {
   "cell_type": "code",
   "execution_count": 548,
   "metadata": {},
   "outputs": [],
   "source": [
    "pog_in_df = pd.merge( pog_df, info_df.loc[:,[\"DIV_CD\", \"DIV_NAME\"]], on = [\"DIV_CD\"], how = \"left\")"
   ]
  },
  {
   "cell_type": "code",
   "execution_count": 549,
   "metadata": {},
   "outputs": [],
   "source": [
    "pog_in_df.drop(columns = [\"POG 그룹 이름\"], inplace = True)\n",
    "pog_in_df.drop_duplicates(inplace = True)\n",
    "pog_in_df.reset_index(drop = True, inplace = True)"
   ]
  },
  {
   "cell_type": "code",
   "execution_count": 550,
   "metadata": {},
   "outputs": [
    {
     "output_type": "execute_result",
     "data": {
      "text/plain": [
       "    POG 그룹 ID DIV_CD DIV_NAME\n",
       "0       10101     29       과자\n",
       "1       10102     32       세제\n",
       "2       10103     33     위생용품\n",
       "3       11101     17       과일\n",
       "4       11201     19       채소\n",
       "..        ...    ...      ...\n",
       "113     79603     65     냉장냉동\n",
       "114     80501     72      닭고기\n",
       "115     81601     21     건해산물\n",
       "116     82602     38       수예\n",
       "117     85002     41       완구\n",
       "\n",
       "[118 rows x 3 columns]"
      ],
      "text/html": "<div>\n<style scoped>\n    .dataframe tbody tr th:only-of-type {\n        vertical-align: middle;\n    }\n\n    .dataframe tbody tr th {\n        vertical-align: top;\n    }\n\n    .dataframe thead th {\n        text-align: right;\n    }\n</style>\n<table border=\"1\" class=\"dataframe\">\n  <thead>\n    <tr style=\"text-align: right;\">\n      <th></th>\n      <th>POG 그룹 ID</th>\n      <th>DIV_CD</th>\n      <th>DIV_NAME</th>\n    </tr>\n  </thead>\n  <tbody>\n    <tr>\n      <th>0</th>\n      <td>10101</td>\n      <td>29</td>\n      <td>과자</td>\n    </tr>\n    <tr>\n      <th>1</th>\n      <td>10102</td>\n      <td>32</td>\n      <td>세제</td>\n    </tr>\n    <tr>\n      <th>2</th>\n      <td>10103</td>\n      <td>33</td>\n      <td>위생용품</td>\n    </tr>\n    <tr>\n      <th>3</th>\n      <td>11101</td>\n      <td>17</td>\n      <td>과일</td>\n    </tr>\n    <tr>\n      <th>4</th>\n      <td>11201</td>\n      <td>19</td>\n      <td>채소</td>\n    </tr>\n    <tr>\n      <th>...</th>\n      <td>...</td>\n      <td>...</td>\n      <td>...</td>\n    </tr>\n    <tr>\n      <th>113</th>\n      <td>79603</td>\n      <td>65</td>\n      <td>냉장냉동</td>\n    </tr>\n    <tr>\n      <th>114</th>\n      <td>80501</td>\n      <td>72</td>\n      <td>닭고기</td>\n    </tr>\n    <tr>\n      <th>115</th>\n      <td>81601</td>\n      <td>21</td>\n      <td>건해산물</td>\n    </tr>\n    <tr>\n      <th>116</th>\n      <td>82602</td>\n      <td>38</td>\n      <td>수예</td>\n    </tr>\n    <tr>\n      <th>117</th>\n      <td>85002</td>\n      <td>41</td>\n      <td>완구</td>\n    </tr>\n  </tbody>\n</table>\n<p>118 rows × 3 columns</p>\n</div>"
     },
     "metadata": {},
     "execution_count": 550
    }
   ],
   "source": [
    "pog_in_df"
   ]
  },
  {
   "cell_type": "code",
   "execution_count": 551,
   "metadata": {},
   "outputs": [],
   "source": [
    "#DIV_NAME들을 구분하여 GW카테고리에 맞춰 새로운 칼럼생성\n",
    "gw_list = []\n",
    "for i in range(len(pog_in_df)):\n",
    "    name = pog_in_df.loc[i, \"DIV_NAME\"]\n",
    "    if name == \"과일\":\n",
    "        gw_list.append(\"청과\")\n",
    "    elif name in [\"생선\",\"건해산물\"]:\n",
    "        gw_list.append(\"수산\")\n",
    "    elif name in [\"돼지고기\" ,\"소고기\"]:\n",
    "        gw_list.append(\"축산\")\n",
    "    elif name == \"조리식품\":\n",
    "        gw_list.append(\"델리카\")\n",
    "    elif name in [\"H&B\", \"섬유잡화\", \"장신잡화\", \"남성의류편집\", \"피혁잡화\", \"신발\", \"이지캐주얼\" , \"아동유아편집\",\"여성의류편집\",\"여성의류NB\",\"남성의류NB\",\"아동유아NB\"]:\n",
    "        gw_list.append(\"H&B\")\n",
    "    elif name in [\"음료\", \"주류\"]:\n",
    "        gw_list.append(\"음료,주류\")\n",
    "    elif name in [\"일반스포츠\", \"레져스포츠\", \"스포츠NB\"]:\n",
    "        gw_list.append(\"스포츠\")\n",
    "    else:\n",
    "        gw_list.append(name)"
   ]
  },
  {
   "cell_type": "code",
   "execution_count": 552,
   "metadata": {},
   "outputs": [],
   "source": [
    "pog_in_df[\"GW_Cate\"] = gw_list\n",
    "pog_in_df.drop(columns = [\"DIV_CD\", \"DIV_NAME\"],inplace = True)\n",
    "pog_in_df.drop_duplicates(inplace = True)"
   ]
  },
  {
   "cell_type": "code",
   "execution_count": 553,
   "metadata": {},
   "outputs": [],
   "source": [
    "pog_id = []\n",
    "gw_ca = []\n",
    "for i in range(17):\n",
    "    if i == 0:\n",
    "        pog_id.append(0)\n",
    "        gw_ca.append(\"입구\")\n",
    "    else:\n",
    "        pog_id.append(i)\n",
    "        gw_ca.append(\"계산대\")\n",
    "io_df = pd.DataFrame()\n",
    "io_df[\"POG 그룹 ID\"] = pog_id\n",
    "io_df[\"GW_Cate\"] = gw_ca"
   ]
  },
  {
   "cell_type": "code",
   "execution_count": 554,
   "metadata": {},
   "outputs": [],
   "source": [
    "pog_in_df = pd.concat([pog_in_df, io_df])\n",
    "pog_in_df[\"POG 그룹 ID\"] = pog_in_df[\"POG 그룹 ID\"].astype(int)\n",
    "fdf[\"POG 그룹 ID\"] = fdf[\"POG 그룹 ID\"].astype(int)\n",
    "final = pd.merge(fdf, pog_in_df, on= \"POG 그룹 ID\", how = \"left\")\n"
   ]
  },
  {
   "cell_type": "code",
   "execution_count": 403,
   "metadata": {},
   "outputs": [
    {
     "output_type": "execute_result",
     "data": {
      "text/plain": [
       "array(['입구', '청과', '채소', '닭고기', '수산', '냉장냉동', '조미식품', '데일리', '음료,주류',\n",
       "       '과자', '위생용품', '건강,차', '세제', '수예', '인테리어', '애완원예용품', '자동차', '계산대',\n",
       "       '인스턴트', '축산', '델리카', '주방용품', '청소욕실', '완구'], dtype=object)"
      ]
     },
     "metadata": {},
     "execution_count": 403
    }
   ],
   "source": [
    "final.GW_Cate.unique()"
   ]
  },
  {
   "source": [
    "final.to_csv(\"동선정보_매핑완료_0122_0220_final.csv\", index = False)"
   ],
   "cell_type": "code",
   "metadata": {},
   "execution_count": 413,
   "outputs": []
  },
  {
   "cell_type": "code",
   "execution_count": null,
   "metadata": {},
   "outputs": [],
   "source": [
    "data = final.copy()"
   ]
  },
  {
   "cell_type": "code",
   "execution_count": null,
   "metadata": {},
   "outputs": [],
   "source": []
  },
  {
   "cell_type": "code",
   "execution_count": 4,
   "metadata": {},
   "outputs": [],
   "source": [
    "data = pd.read_csv('/home/shinjk1156/Project_code/Retail_Project/Code/Preprocessing/Data/동선정보_매핑완료_0122_0220_final.csv')"
   ]
  },
  {
   "cell_type": "code",
   "execution_count": null,
   "metadata": {},
   "outputs": [],
   "source": [
    "data.GW_Cate.unique()"
   ]
  },
  {
   "cell_type": "code",
   "execution_count": 5,
   "metadata": {},
   "outputs": [],
   "source": [
    "def correction(trans_list):\n",
    "    count_list = []\n",
    "    shop_list = []\n",
    "    i = 0\n",
    "    j = 1\n",
    "    count = 1\n",
    "    while(True):\n",
    "        if i + j  > len(trans_list)-1:\n",
    "            count_list.append(count)\n",
    "            shop_list.append(trans_list[i])\n",
    "            break\n",
    "        if trans_list[i] == trans_list[i+j]:\n",
    "            count += 1\n",
    "            j +=1\n",
    "        else:\n",
    "            count_list.append(count)\n",
    "            shop_list.append(trans_list[i])\n",
    "            count = 1\n",
    "            i = i + j\n",
    "            j = 1\n",
    "    return count_list, shop_list\n",
    "    "
   ]
  },
  {
   "cell_type": "code",
   "execution_count": 6,
   "metadata": {},
   "outputs": [],
   "source": [
    "def freq(trans_list):\n",
    "    new_list = []\n",
    "    new_list.append(trans_list[0])\n",
    "    for i in range(1, len(trans_list)-1, 1):\n",
    "        if (trans_list[i] != trans_list[i+1]) and (trans_list[i] != trans_list[i-1]):\n",
    "            pass\n",
    "        else:\n",
    "            new_list.append(trans_list[i])\n",
    "    new_list.append(trans_list[-1])\n",
    "    return new_list\n",
    "        "
   ]
  },
  {
   "cell_type": "code",
   "execution_count": 7,
   "metadata": {},
   "outputs": [
    {
     "output_type": "stream",
     "name": "stderr",
     "text": [
      "100%|██████████| 12506/12506 [01:47<00:00, 115.93it/s]\n"
     ]
    }
   ],
   "source": [
    "transactions = []\n",
    "for id in tqdm(data[\"쇼핑 ID\"].unique()):\n",
    "    temp = data[data[\"쇼핑 ID\"] == id]\n",
    "    temp.reset_index(inplace = True, drop = True)\n",
    "    d_index_list = []\n",
    "    for i in range(1,len(temp)-1,1):\n",
    "        if (temp.loc[i,\"GW_Cate\"] != temp.loc[i+1,\"GW_Cate\"]) and (temp.loc[i,\"GW_Cate\"]!= temp.loc[i-1,\"GW_Cate\"]):\n",
    "            d_index_list.append(i)\n",
    "        else:\n",
    "            pass\n",
    "    temp.drop(index = d_index_list, inplace = True)\n",
    "    temp.reset_index(drop = True, inplace  = True)\n",
    "    cor_list = correction(temp.GW_Cate.to_list()) #횟수, 동선리스트\n",
    "    i = 0\n",
    "    f_list = []\n",
    "    for cor in range(len(cor_list[0])):\n",
    "        #print(cor_list[1][cor])\n",
    "        if cor == 0:\n",
    "            start = datetime.strptime(str(temp.loc[i,\"저장시간\"]), \"%Y-%m-%d %H:%M:%S.%f\")\n",
    "            #print(str(temp.loc[i,\"저장시간\"]))\n",
    "            j = cor_list[0][cor]\n",
    "            i = i + j -1\n",
    "            end = datetime.strptime(str(temp.loc[i,\"저장시간\"]), \"%Y-%m-%d %H:%M:%S.%f\")\n",
    "            #print(str(temp.loc[i,\"저장시간\"]))\n",
    "        else:\n",
    "            start = datetime.strptime(str(temp.loc[i+1,\"저장시간\"]), \"%Y-%m-%d %H:%M:%S.%f\")\n",
    "            #print(str(temp.loc[i+1,\"저장시간\"]))\n",
    "            j = cor_list[0][cor]\n",
    "            i = i + j \n",
    "            end = datetime.strptime(str(temp.loc[i,\"저장시간\"]), \"%Y-%m-%d %H:%M:%S.%f\")\n",
    "            #print(str(temp.loc[i,\"저장시간\"]))\n",
    "        f_list = f_list + [cor_list[1][cor]]*(int((end-start).total_seconds()/60) + 1)\n",
    "    transactions.append(f_list)"
   ]
  },
  {
   "cell_type": "code",
   "execution_count": 8,
   "metadata": {},
   "outputs": [],
   "source": [
    "trans_dic = {}\n",
    "count = 0\n",
    "for trans in transactions:\n",
    "    for element in trans:\n",
    "        if element not in trans_dic.keys():\n",
    "            trans_dic[element] = count\n",
    "            count += 1\n",
    "        else:\n",
    "            pass\n",
    "#동선정보에 기록이 안된 매대(리피터 오류로 추정됨)\n",
    "out = [\"H&B\", \"곡물\",\"언더웨어\",\"스포츠\",\"문구\"]\n",
    "for h in out:\n",
    "    trans_dic[h] = count\n",
    "    count += 1\n"
   ]
  },
  {
   "cell_type": "code",
   "execution_count": 9,
   "metadata": {},
   "outputs": [],
   "source": [
    "n_trans_list = []\n",
    "for trans in transactions:\n",
    "    t_list = []\n",
    "    for element in trans:\n",
    "        t_list.append(str(trans_dic[element]))\n",
    "    n_trans_list.append(t_list)"
   ]
  },
  {
   "cell_type": "code",
   "execution_count": 10,
   "metadata": {},
   "outputs": [],
   "source": [
    "trans_matrix = pd.DataFrame(np.zeros((len(trans_dic.keys()), len(trans_dic.keys()))),index = trans_dic.keys(), columns= trans_dic.keys())\n",
    "#인접지역 입력 \"H&B\", \"곡물\",\"언더웨어\",\"스포츠\",\"문구\"\n",
    "c_state = {\"H&B\" : [\"곡물\", \"계산대\",\"스포츠\",\"문구\",\"완구\",\"자동차\",\"언더웨어\",\"청소욕실\"],\n",
    "\"곡물\" : [\"청과\",\"계산대\",\"채소\",\"H&B\"],\n",
    "\"언더웨어\" : [\"H&B\",\"애완원예용품\",\"인테리어\",\"건강,차\",\"청소욕실\"],\n",
    "\"스포츠\" : [\"H&B\",\"문구\"], \"문구\" : [\"스포츠\", \"H&B\", \"완구\"]}\n",
    "#c_state_in =  "
   ]
  },
  {
   "cell_type": "code",
   "execution_count": 13,
   "metadata": {},
   "outputs": [],
   "source": [
    "for t_list in transactions:\n",
    "    for t in range(len(t_list)-1):\n",
    "        trans_matrix.loc[t_list[t], t_list[t+1]] += 1"
   ]
  },
  {
   "cell_type": "code",
   "execution_count": 14,
   "metadata": {},
   "outputs": [],
   "source": [
    "origin_trans_matrix = trans_matrix.copy()\n",
    "trans_matrix = origin_trans_matrix.copy()"
   ]
  },
  {
   "cell_type": "code",
   "execution_count": 15,
   "metadata": {},
   "outputs": [],
   "source": [
    "for state in c_state.keys():\n",
    "    temp = c_state[state]\n",
    "    for s in temp:\n",
    "        trans_matrix.loc[state,s] = 1/len(temp)"
   ]
  },
  {
   "cell_type": "code",
   "execution_count": 16,
   "metadata": {},
   "outputs": [],
   "source": [
    "for inx in trans_matrix.index:\n",
    "    #소수점 3번째 이하 0으로 처리\n",
    "    trans_matrix.loc[inx, :] = round(trans_matrix.loc[inx, :] / sum(trans_matrix.loc[inx, :]),2)\n",
    "    \n",
    "    for jix in trans_matrix.index:\n",
    "        if trans_matrix.loc[inx, jix] < 0.03: \n",
    "            trans_matrix.loc[inx, jix] = 0\n",
    "\n",
    "for state in c_state.keys():\n",
    "    temp = c_state[state]\n",
    "    for s in temp:\n",
    "        if s in [\"문구\",\"완구\",\"자동차\",\"애완원예용품\",\"인테리어\"]:\n",
    "            trans_matrix.loc[s,state] = 1/3\n",
    "        elif s in [\"스포츠\",\"청과\",\"계산대\"]:\n",
    "            trans_matrix.loc[s,state] = 1/2\n",
    "        elif s in [\"곡물\",\"청소욕실\",\"건강,차\"]:\n",
    "            trans_matrix.loc[s,state] = 1/4\n",
    "        elif s == \"언더웨어\":\n",
    "            trans_matrix.loc[s,state] = 1/5\n",
    "        elif s == \"채소\":\n",
    "            trans_matrix.loc[s,state] = 1/6\n",
    "        else:\n",
    "            trans_matrix.loc[s,state] = 1/8\n",
    "\n",
    "\n",
    "for inx in trans_matrix.index:\n",
    "    #다시 각 row의 합이 1이 되게 설정함\n",
    "    trans_matrix.loc[inx, :] = trans_matrix.loc[inx, :] / sum(trans_matrix.loc[inx, :])\n"
   ]
  },
  {
   "cell_type": "code",
   "execution_count": 538,
   "metadata": {},
   "outputs": [],
   "source": [
    "trans_matrix.to_csv(\"transition_probability.csv\")"
   ]
  },
  {
   "cell_type": "code",
   "execution_count": 17,
   "metadata": {},
   "outputs": [
    {
     "output_type": "execute_result",
     "data": {
      "text/plain": [
       "              입구        청과        채소       닭고기        수산      냉장냉동      조미식품  \\\n",
       "입구      0.336842  0.284211  0.378947  0.000000  0.000000  0.000000  0.000000   \n",
       "청과      0.000000  0.202703  0.358108  0.020270  0.000000  0.000000  0.000000   \n",
       "채소      0.000000  0.072948  0.382979  0.145897  0.127660  0.000000  0.027356   \n",
       "닭고기     0.000000  0.000000  0.791667  0.104167  0.062500  0.000000  0.000000   \n",
       "수산      0.000000  0.000000  0.315789  0.000000  0.189474  0.263158  0.115789   \n",
       "냉장냉동    0.000000  0.000000  0.000000  0.000000  0.168421  0.273684  0.242105   \n",
       "조미식품    0.000000  0.000000  0.043011  0.000000  0.107527  0.290323  0.172043   \n",
       "데일리     0.000000  0.000000  0.000000  0.000000  0.000000  0.138298  0.148936   \n",
       "과자      0.000000  0.000000  0.000000  0.000000  0.000000  0.000000  0.000000   \n",
       "건강,차    0.000000  0.000000  0.000000  0.000000  0.000000  0.000000  0.000000   \n",
       "수예      0.000000  0.000000  0.000000  0.000000  0.000000  0.000000  0.000000   \n",
       "인테리어    0.000000  0.000000  0.000000  0.000000  0.000000  0.000000  0.000000   \n",
       "애완원예용품  0.000000  0.000000  0.000000  0.000000  0.000000  0.000000  0.000000   \n",
       "계산대     0.000000  0.000000  0.000000  0.000000  0.000000  0.000000  0.000000   \n",
       "자동차     0.000000  0.000000  0.024523  0.000000  0.000000  0.000000  0.000000   \n",
       "세제      0.000000  0.000000  0.000000  0.000000  0.000000  0.000000  0.000000   \n",
       "인스턴트    0.000000  0.000000  0.000000  0.000000  0.000000  0.000000  0.227273   \n",
       "음료,주류   0.000000  0.000000  0.000000  0.000000  0.000000  0.031250  0.000000   \n",
       "축산      0.000000  0.000000  0.052632  0.000000  0.105263  0.147368  0.000000   \n",
       "델리카     0.000000  0.000000  0.000000  0.000000  0.000000  0.479167  0.000000   \n",
       "주방용품    0.000000  0.000000  0.087912  0.000000  0.000000  0.000000  0.065934   \n",
       "청소욕실    0.000000  0.000000  0.164286  0.000000  0.000000  0.000000  0.000000   \n",
       "위생용품    0.000000  0.000000  0.000000  0.000000  0.000000  0.000000  0.000000   \n",
       "완구      0.000000  0.000000  0.000000  0.000000  0.000000  0.000000  0.000000   \n",
       "H&B     0.000000  0.000000  0.000000  0.000000  0.000000  0.000000  0.000000   \n",
       "곡물      0.000000  0.250000  0.250000  0.000000  0.000000  0.000000  0.000000   \n",
       "언더웨어    0.000000  0.000000  0.000000  0.000000  0.000000  0.000000  0.000000   \n",
       "스포츠     0.000000  0.000000  0.000000  0.000000  0.000000  0.000000  0.000000   \n",
       "문구      0.000000  0.000000  0.000000  0.000000  0.000000  0.000000  0.000000   \n",
       "\n",
       "             데일리        과자      건강,차  ...       델리카      주방용품      청소욕실  \\\n",
       "입구      0.000000  0.000000  0.000000  ...  0.000000  0.000000  0.000000   \n",
       "청과      0.000000  0.000000  0.000000  ...  0.000000  0.000000  0.000000   \n",
       "채소      0.000000  0.000000  0.000000  ...  0.000000  0.000000  0.000000   \n",
       "닭고기     0.000000  0.000000  0.000000  ...  0.000000  0.000000  0.000000   \n",
       "수산      0.000000  0.000000  0.000000  ...  0.000000  0.000000  0.000000   \n",
       "냉장냉동    0.136842  0.000000  0.000000  ...  0.126316  0.000000  0.000000   \n",
       "조미식품    0.161290  0.000000  0.000000  ...  0.000000  0.000000  0.000000   \n",
       "데일리     0.287234  0.063830  0.000000  ...  0.000000  0.000000  0.000000   \n",
       "과자      0.042553  0.393617  0.191489  ...  0.000000  0.000000  0.000000   \n",
       "건강,차    0.000000  0.210526  0.201754  ...  0.000000  0.157895  0.000000   \n",
       "수예      0.000000  0.125000  0.104167  ...  0.000000  0.000000  0.000000   \n",
       "인테리어    0.000000  0.023377  0.038961  ...  0.000000  0.000000  0.000000   \n",
       "애완원예용품  0.000000  0.000000  0.000000  ...  0.000000  0.000000  0.000000   \n",
       "계산대     0.000000  0.000000  0.000000  ...  0.000000  0.000000  0.000000   \n",
       "자동차     0.000000  0.000000  0.000000  ...  0.000000  0.000000  0.000000   \n",
       "세제      0.000000  0.265957  0.085106  ...  0.000000  0.000000  0.000000   \n",
       "인스턴트    0.375000  0.000000  0.056818  ...  0.000000  0.090909  0.000000   \n",
       "음료,주류   0.197917  0.312500  0.031250  ...  0.000000  0.000000  0.000000   \n",
       "축산      0.000000  0.000000  0.000000  ...  0.231579  0.000000  0.000000   \n",
       "델리카     0.062500  0.000000  0.000000  ...  0.322917  0.000000  0.000000   \n",
       "주방용품    0.000000  0.000000  0.164835  ...  0.000000  0.241758  0.186813   \n",
       "청소욕실    0.000000  0.000000  0.000000  ...  0.000000  0.214286  0.128571   \n",
       "위생용품    0.031579  0.505263  0.000000  ...  0.000000  0.000000  0.000000   \n",
       "완구      0.000000  0.000000  0.000000  ...  0.000000  0.000000  0.000000   \n",
       "H&B     0.000000  0.000000  0.000000  ...  0.000000  0.000000  0.122449   \n",
       "곡물      0.000000  0.000000  0.000000  ...  0.000000  0.000000  0.000000   \n",
       "언더웨어    0.000000  0.000000  0.200000  ...  0.000000  0.000000  0.200000   \n",
       "스포츠     0.000000  0.000000  0.000000  ...  0.000000  0.000000  0.000000   \n",
       "문구      0.000000  0.000000  0.000000  ...  0.000000  0.000000  0.000000   \n",
       "\n",
       "            위생용품        완구       H&B        곡물      언더웨어       스포츠        문구  \n",
       "입구      0.000000  0.000000  0.000000  0.000000  0.000000  0.000000  0.000000  \n",
       "청과      0.000000  0.000000  0.000000  0.337838  0.000000  0.000000  0.000000  \n",
       "채소      0.000000  0.000000  0.000000  0.151976  0.000000  0.000000  0.000000  \n",
       "닭고기     0.000000  0.000000  0.000000  0.000000  0.000000  0.000000  0.000000  \n",
       "수산      0.000000  0.000000  0.000000  0.000000  0.000000  0.000000  0.000000  \n",
       "냉장냉동    0.000000  0.000000  0.000000  0.000000  0.000000  0.000000  0.000000  \n",
       "조미식품    0.000000  0.000000  0.000000  0.000000  0.000000  0.000000  0.000000  \n",
       "데일리     0.000000  0.000000  0.000000  0.000000  0.000000  0.000000  0.000000  \n",
       "과자      0.106383  0.000000  0.000000  0.000000  0.000000  0.000000  0.000000  \n",
       "건강,차    0.000000  0.000000  0.000000  0.000000  0.219298  0.000000  0.000000  \n",
       "수예      0.000000  0.000000  0.000000  0.000000  0.000000  0.000000  0.000000  \n",
       "인테리어    0.000000  0.000000  0.000000  0.000000  0.259740  0.000000  0.000000  \n",
       "애완원예용품  0.000000  0.040541  0.000000  0.000000  0.270270  0.000000  0.000000  \n",
       "계산대     0.000000  0.000000  0.251256  0.251256  0.000000  0.000000  0.000000  \n",
       "자동차     0.000000  0.049046  0.272480  0.000000  0.000000  0.000000  0.000000  \n",
       "세제      0.042553  0.000000  0.000000  0.000000  0.000000  0.000000  0.000000  \n",
       "인스턴트    0.000000  0.000000  0.000000  0.000000  0.000000  0.000000  0.000000  \n",
       "음료,주류   0.041667  0.000000  0.000000  0.000000  0.000000  0.000000  0.000000  \n",
       "축산      0.000000  0.000000  0.000000  0.000000  0.000000  0.000000  0.000000  \n",
       "델리카     0.000000  0.000000  0.000000  0.000000  0.000000  0.000000  0.000000  \n",
       "주방용품    0.000000  0.000000  0.000000  0.000000  0.000000  0.000000  0.000000  \n",
       "청소욕실    0.000000  0.000000  0.178571  0.000000  0.178571  0.000000  0.000000  \n",
       "위생용품    0.336842  0.000000  0.000000  0.000000  0.000000  0.000000  0.000000  \n",
       "완구      0.000000  0.284536  0.206186  0.000000  0.000000  0.000000  0.206186  \n",
       "H&B     0.000000  0.122449  0.000000  0.127551  0.127551  0.127551  0.127551  \n",
       "곡물      0.000000  0.000000  0.250000  0.000000  0.000000  0.000000  0.000000  \n",
       "언더웨어    0.000000  0.000000  0.200000  0.000000  0.000000  0.000000  0.000000  \n",
       "스포츠     0.000000  0.000000  0.500000  0.000000  0.000000  0.000000  0.500000  \n",
       "문구      0.000000  0.331104  0.334448  0.000000  0.000000  0.334448  0.000000  \n",
       "\n",
       "[29 rows x 29 columns]"
      ],
      "text/html": "<div>\n<style scoped>\n    .dataframe tbody tr th:only-of-type {\n        vertical-align: middle;\n    }\n\n    .dataframe tbody tr th {\n        vertical-align: top;\n    }\n\n    .dataframe thead th {\n        text-align: right;\n    }\n</style>\n<table border=\"1\" class=\"dataframe\">\n  <thead>\n    <tr style=\"text-align: right;\">\n      <th></th>\n      <th>입구</th>\n      <th>청과</th>\n      <th>채소</th>\n      <th>닭고기</th>\n      <th>수산</th>\n      <th>냉장냉동</th>\n      <th>조미식품</th>\n      <th>데일리</th>\n      <th>과자</th>\n      <th>건강,차</th>\n      <th>...</th>\n      <th>델리카</th>\n      <th>주방용품</th>\n      <th>청소욕실</th>\n      <th>위생용품</th>\n      <th>완구</th>\n      <th>H&amp;B</th>\n      <th>곡물</th>\n      <th>언더웨어</th>\n      <th>스포츠</th>\n      <th>문구</th>\n    </tr>\n  </thead>\n  <tbody>\n    <tr>\n      <th>입구</th>\n      <td>0.336842</td>\n      <td>0.284211</td>\n      <td>0.378947</td>\n      <td>0.000000</td>\n      <td>0.000000</td>\n      <td>0.000000</td>\n      <td>0.000000</td>\n      <td>0.000000</td>\n      <td>0.000000</td>\n      <td>0.000000</td>\n      <td>...</td>\n      <td>0.000000</td>\n      <td>0.000000</td>\n      <td>0.000000</td>\n      <td>0.000000</td>\n      <td>0.000000</td>\n      <td>0.000000</td>\n      <td>0.000000</td>\n      <td>0.000000</td>\n      <td>0.000000</td>\n      <td>0.000000</td>\n    </tr>\n    <tr>\n      <th>청과</th>\n      <td>0.000000</td>\n      <td>0.202703</td>\n      <td>0.358108</td>\n      <td>0.020270</td>\n      <td>0.000000</td>\n      <td>0.000000</td>\n      <td>0.000000</td>\n      <td>0.000000</td>\n      <td>0.000000</td>\n      <td>0.000000</td>\n      <td>...</td>\n      <td>0.000000</td>\n      <td>0.000000</td>\n      <td>0.000000</td>\n      <td>0.000000</td>\n      <td>0.000000</td>\n      <td>0.000000</td>\n      <td>0.337838</td>\n      <td>0.000000</td>\n      <td>0.000000</td>\n      <td>0.000000</td>\n    </tr>\n    <tr>\n      <th>채소</th>\n      <td>0.000000</td>\n      <td>0.072948</td>\n      <td>0.382979</td>\n      <td>0.145897</td>\n      <td>0.127660</td>\n      <td>0.000000</td>\n      <td>0.027356</td>\n      <td>0.000000</td>\n      <td>0.000000</td>\n      <td>0.000000</td>\n      <td>...</td>\n      <td>0.000000</td>\n      <td>0.000000</td>\n      <td>0.000000</td>\n      <td>0.000000</td>\n      <td>0.000000</td>\n      <td>0.000000</td>\n      <td>0.151976</td>\n      <td>0.000000</td>\n      <td>0.000000</td>\n      <td>0.000000</td>\n    </tr>\n    <tr>\n      <th>닭고기</th>\n      <td>0.000000</td>\n      <td>0.000000</td>\n      <td>0.791667</td>\n      <td>0.104167</td>\n      <td>0.062500</td>\n      <td>0.000000</td>\n      <td>0.000000</td>\n      <td>0.000000</td>\n      <td>0.000000</td>\n      <td>0.000000</td>\n      <td>...</td>\n      <td>0.000000</td>\n      <td>0.000000</td>\n      <td>0.000000</td>\n      <td>0.000000</td>\n      <td>0.000000</td>\n      <td>0.000000</td>\n      <td>0.000000</td>\n      <td>0.000000</td>\n      <td>0.000000</td>\n      <td>0.000000</td>\n    </tr>\n    <tr>\n      <th>수산</th>\n      <td>0.000000</td>\n      <td>0.000000</td>\n      <td>0.315789</td>\n      <td>0.000000</td>\n      <td>0.189474</td>\n      <td>0.263158</td>\n      <td>0.115789</td>\n      <td>0.000000</td>\n      <td>0.000000</td>\n      <td>0.000000</td>\n      <td>...</td>\n      <td>0.000000</td>\n      <td>0.000000</td>\n      <td>0.000000</td>\n      <td>0.000000</td>\n      <td>0.000000</td>\n      <td>0.000000</td>\n      <td>0.000000</td>\n      <td>0.000000</td>\n      <td>0.000000</td>\n      <td>0.000000</td>\n    </tr>\n    <tr>\n      <th>냉장냉동</th>\n      <td>0.000000</td>\n      <td>0.000000</td>\n      <td>0.000000</td>\n      <td>0.000000</td>\n      <td>0.168421</td>\n      <td>0.273684</td>\n      <td>0.242105</td>\n      <td>0.136842</td>\n      <td>0.000000</td>\n      <td>0.000000</td>\n      <td>...</td>\n      <td>0.126316</td>\n      <td>0.000000</td>\n      <td>0.000000</td>\n      <td>0.000000</td>\n      <td>0.000000</td>\n      <td>0.000000</td>\n      <td>0.000000</td>\n      <td>0.000000</td>\n      <td>0.000000</td>\n      <td>0.000000</td>\n    </tr>\n    <tr>\n      <th>조미식품</th>\n      <td>0.000000</td>\n      <td>0.000000</td>\n      <td>0.043011</td>\n      <td>0.000000</td>\n      <td>0.107527</td>\n      <td>0.290323</td>\n      <td>0.172043</td>\n      <td>0.161290</td>\n      <td>0.000000</td>\n      <td>0.000000</td>\n      <td>...</td>\n      <td>0.000000</td>\n      <td>0.000000</td>\n      <td>0.000000</td>\n      <td>0.000000</td>\n      <td>0.000000</td>\n      <td>0.000000</td>\n      <td>0.000000</td>\n      <td>0.000000</td>\n      <td>0.000000</td>\n      <td>0.000000</td>\n    </tr>\n    <tr>\n      <th>데일리</th>\n      <td>0.000000</td>\n      <td>0.000000</td>\n      <td>0.000000</td>\n      <td>0.000000</td>\n      <td>0.000000</td>\n      <td>0.138298</td>\n      <td>0.148936</td>\n      <td>0.287234</td>\n      <td>0.063830</td>\n      <td>0.000000</td>\n      <td>...</td>\n      <td>0.000000</td>\n      <td>0.000000</td>\n      <td>0.000000</td>\n      <td>0.000000</td>\n      <td>0.000000</td>\n      <td>0.000000</td>\n      <td>0.000000</td>\n      <td>0.000000</td>\n      <td>0.000000</td>\n      <td>0.000000</td>\n    </tr>\n    <tr>\n      <th>과자</th>\n      <td>0.000000</td>\n      <td>0.000000</td>\n      <td>0.000000</td>\n      <td>0.000000</td>\n      <td>0.000000</td>\n      <td>0.000000</td>\n      <td>0.000000</td>\n      <td>0.042553</td>\n      <td>0.393617</td>\n      <td>0.191489</td>\n      <td>...</td>\n      <td>0.000000</td>\n      <td>0.000000</td>\n      <td>0.000000</td>\n      <td>0.106383</td>\n      <td>0.000000</td>\n      <td>0.000000</td>\n      <td>0.000000</td>\n      <td>0.000000</td>\n      <td>0.000000</td>\n      <td>0.000000</td>\n    </tr>\n    <tr>\n      <th>건강,차</th>\n      <td>0.000000</td>\n      <td>0.000000</td>\n      <td>0.000000</td>\n      <td>0.000000</td>\n      <td>0.000000</td>\n      <td>0.000000</td>\n      <td>0.000000</td>\n      <td>0.000000</td>\n      <td>0.210526</td>\n      <td>0.201754</td>\n      <td>...</td>\n      <td>0.000000</td>\n      <td>0.157895</td>\n      <td>0.000000</td>\n      <td>0.000000</td>\n      <td>0.000000</td>\n      <td>0.000000</td>\n      <td>0.000000</td>\n      <td>0.219298</td>\n      <td>0.000000</td>\n      <td>0.000000</td>\n    </tr>\n    <tr>\n      <th>수예</th>\n      <td>0.000000</td>\n      <td>0.000000</td>\n      <td>0.000000</td>\n      <td>0.000000</td>\n      <td>0.000000</td>\n      <td>0.000000</td>\n      <td>0.000000</td>\n      <td>0.000000</td>\n      <td>0.125000</td>\n      <td>0.104167</td>\n      <td>...</td>\n      <td>0.000000</td>\n      <td>0.000000</td>\n      <td>0.000000</td>\n      <td>0.000000</td>\n      <td>0.000000</td>\n      <td>0.000000</td>\n      <td>0.000000</td>\n      <td>0.000000</td>\n      <td>0.000000</td>\n      <td>0.000000</td>\n    </tr>\n    <tr>\n      <th>인테리어</th>\n      <td>0.000000</td>\n      <td>0.000000</td>\n      <td>0.000000</td>\n      <td>0.000000</td>\n      <td>0.000000</td>\n      <td>0.000000</td>\n      <td>0.000000</td>\n      <td>0.000000</td>\n      <td>0.023377</td>\n      <td>0.038961</td>\n      <td>...</td>\n      <td>0.000000</td>\n      <td>0.000000</td>\n      <td>0.000000</td>\n      <td>0.000000</td>\n      <td>0.000000</td>\n      <td>0.000000</td>\n      <td>0.000000</td>\n      <td>0.259740</td>\n      <td>0.000000</td>\n      <td>0.000000</td>\n    </tr>\n    <tr>\n      <th>애완원예용품</th>\n      <td>0.000000</td>\n      <td>0.000000</td>\n      <td>0.000000</td>\n      <td>0.000000</td>\n      <td>0.000000</td>\n      <td>0.000000</td>\n      <td>0.000000</td>\n      <td>0.000000</td>\n      <td>0.000000</td>\n      <td>0.000000</td>\n      <td>...</td>\n      <td>0.000000</td>\n      <td>0.000000</td>\n      <td>0.000000</td>\n      <td>0.000000</td>\n      <td>0.040541</td>\n      <td>0.000000</td>\n      <td>0.000000</td>\n      <td>0.270270</td>\n      <td>0.000000</td>\n      <td>0.000000</td>\n    </tr>\n    <tr>\n      <th>계산대</th>\n      <td>0.000000</td>\n      <td>0.000000</td>\n      <td>0.000000</td>\n      <td>0.000000</td>\n      <td>0.000000</td>\n      <td>0.000000</td>\n      <td>0.000000</td>\n      <td>0.000000</td>\n      <td>0.000000</td>\n      <td>0.000000</td>\n      <td>...</td>\n      <td>0.000000</td>\n      <td>0.000000</td>\n      <td>0.000000</td>\n      <td>0.000000</td>\n      <td>0.000000</td>\n      <td>0.251256</td>\n      <td>0.251256</td>\n      <td>0.000000</td>\n      <td>0.000000</td>\n      <td>0.000000</td>\n    </tr>\n    <tr>\n      <th>자동차</th>\n      <td>0.000000</td>\n      <td>0.000000</td>\n      <td>0.024523</td>\n      <td>0.000000</td>\n      <td>0.000000</td>\n      <td>0.000000</td>\n      <td>0.000000</td>\n      <td>0.000000</td>\n      <td>0.000000</td>\n      <td>0.000000</td>\n      <td>...</td>\n      <td>0.000000</td>\n      <td>0.000000</td>\n      <td>0.000000</td>\n      <td>0.000000</td>\n      <td>0.049046</td>\n      <td>0.272480</td>\n      <td>0.000000</td>\n      <td>0.000000</td>\n      <td>0.000000</td>\n      <td>0.000000</td>\n    </tr>\n    <tr>\n      <th>세제</th>\n      <td>0.000000</td>\n      <td>0.000000</td>\n      <td>0.000000</td>\n      <td>0.000000</td>\n      <td>0.000000</td>\n      <td>0.000000</td>\n      <td>0.000000</td>\n      <td>0.000000</td>\n      <td>0.265957</td>\n      <td>0.085106</td>\n      <td>...</td>\n      <td>0.000000</td>\n      <td>0.000000</td>\n      <td>0.000000</td>\n      <td>0.042553</td>\n      <td>0.000000</td>\n      <td>0.000000</td>\n      <td>0.000000</td>\n      <td>0.000000</td>\n      <td>0.000000</td>\n      <td>0.000000</td>\n    </tr>\n    <tr>\n      <th>인스턴트</th>\n      <td>0.000000</td>\n      <td>0.000000</td>\n      <td>0.000000</td>\n      <td>0.000000</td>\n      <td>0.000000</td>\n      <td>0.000000</td>\n      <td>0.227273</td>\n      <td>0.375000</td>\n      <td>0.000000</td>\n      <td>0.056818</td>\n      <td>...</td>\n      <td>0.000000</td>\n      <td>0.090909</td>\n      <td>0.000000</td>\n      <td>0.000000</td>\n      <td>0.000000</td>\n      <td>0.000000</td>\n      <td>0.000000</td>\n      <td>0.000000</td>\n      <td>0.000000</td>\n      <td>0.000000</td>\n    </tr>\n    <tr>\n      <th>음료,주류</th>\n      <td>0.000000</td>\n      <td>0.000000</td>\n      <td>0.000000</td>\n      <td>0.000000</td>\n      <td>0.000000</td>\n      <td>0.031250</td>\n      <td>0.000000</td>\n      <td>0.197917</td>\n      <td>0.312500</td>\n      <td>0.031250</td>\n      <td>...</td>\n      <td>0.000000</td>\n      <td>0.000000</td>\n      <td>0.000000</td>\n      <td>0.041667</td>\n      <td>0.000000</td>\n      <td>0.000000</td>\n      <td>0.000000</td>\n      <td>0.000000</td>\n      <td>0.000000</td>\n      <td>0.000000</td>\n    </tr>\n    <tr>\n      <th>축산</th>\n      <td>0.000000</td>\n      <td>0.000000</td>\n      <td>0.052632</td>\n      <td>0.000000</td>\n      <td>0.105263</td>\n      <td>0.147368</td>\n      <td>0.000000</td>\n      <td>0.000000</td>\n      <td>0.000000</td>\n      <td>0.000000</td>\n      <td>...</td>\n      <td>0.231579</td>\n      <td>0.000000</td>\n      <td>0.000000</td>\n      <td>0.000000</td>\n      <td>0.000000</td>\n      <td>0.000000</td>\n      <td>0.000000</td>\n      <td>0.000000</td>\n      <td>0.000000</td>\n      <td>0.000000</td>\n    </tr>\n    <tr>\n      <th>델리카</th>\n      <td>0.000000</td>\n      <td>0.000000</td>\n      <td>0.000000</td>\n      <td>0.000000</td>\n      <td>0.000000</td>\n      <td>0.479167</td>\n      <td>0.000000</td>\n      <td>0.062500</td>\n      <td>0.000000</td>\n      <td>0.000000</td>\n      <td>...</td>\n      <td>0.322917</td>\n      <td>0.000000</td>\n      <td>0.000000</td>\n      <td>0.000000</td>\n      <td>0.000000</td>\n      <td>0.000000</td>\n      <td>0.000000</td>\n      <td>0.000000</td>\n      <td>0.000000</td>\n      <td>0.000000</td>\n    </tr>\n    <tr>\n      <th>주방용품</th>\n      <td>0.000000</td>\n      <td>0.000000</td>\n      <td>0.087912</td>\n      <td>0.000000</td>\n      <td>0.000000</td>\n      <td>0.000000</td>\n      <td>0.065934</td>\n      <td>0.000000</td>\n      <td>0.000000</td>\n      <td>0.164835</td>\n      <td>...</td>\n      <td>0.000000</td>\n      <td>0.241758</td>\n      <td>0.186813</td>\n      <td>0.000000</td>\n      <td>0.000000</td>\n      <td>0.000000</td>\n      <td>0.000000</td>\n      <td>0.000000</td>\n      <td>0.000000</td>\n      <td>0.000000</td>\n    </tr>\n    <tr>\n      <th>청소욕실</th>\n      <td>0.000000</td>\n      <td>0.000000</td>\n      <td>0.164286</td>\n      <td>0.000000</td>\n      <td>0.000000</td>\n      <td>0.000000</td>\n      <td>0.000000</td>\n      <td>0.000000</td>\n      <td>0.000000</td>\n      <td>0.000000</td>\n      <td>...</td>\n      <td>0.000000</td>\n      <td>0.214286</td>\n      <td>0.128571</td>\n      <td>0.000000</td>\n      <td>0.000000</td>\n      <td>0.178571</td>\n      <td>0.000000</td>\n      <td>0.178571</td>\n      <td>0.000000</td>\n      <td>0.000000</td>\n    </tr>\n    <tr>\n      <th>위생용품</th>\n      <td>0.000000</td>\n      <td>0.000000</td>\n      <td>0.000000</td>\n      <td>0.000000</td>\n      <td>0.000000</td>\n      <td>0.000000</td>\n      <td>0.000000</td>\n      <td>0.031579</td>\n      <td>0.505263</td>\n      <td>0.000000</td>\n      <td>...</td>\n      <td>0.000000</td>\n      <td>0.000000</td>\n      <td>0.000000</td>\n      <td>0.336842</td>\n      <td>0.000000</td>\n      <td>0.000000</td>\n      <td>0.000000</td>\n      <td>0.000000</td>\n      <td>0.000000</td>\n      <td>0.000000</td>\n    </tr>\n    <tr>\n      <th>완구</th>\n      <td>0.000000</td>\n      <td>0.000000</td>\n      <td>0.000000</td>\n      <td>0.000000</td>\n      <td>0.000000</td>\n      <td>0.000000</td>\n      <td>0.000000</td>\n      <td>0.000000</td>\n      <td>0.000000</td>\n      <td>0.000000</td>\n      <td>...</td>\n      <td>0.000000</td>\n      <td>0.000000</td>\n      <td>0.000000</td>\n      <td>0.000000</td>\n      <td>0.284536</td>\n      <td>0.206186</td>\n      <td>0.000000</td>\n      <td>0.000000</td>\n      <td>0.000000</td>\n      <td>0.206186</td>\n    </tr>\n    <tr>\n      <th>H&amp;B</th>\n      <td>0.000000</td>\n      <td>0.000000</td>\n      <td>0.000000</td>\n      <td>0.000000</td>\n      <td>0.000000</td>\n      <td>0.000000</td>\n      <td>0.000000</td>\n      <td>0.000000</td>\n      <td>0.000000</td>\n      <td>0.000000</td>\n      <td>...</td>\n      <td>0.000000</td>\n      <td>0.000000</td>\n      <td>0.122449</td>\n      <td>0.000000</td>\n      <td>0.122449</td>\n      <td>0.000000</td>\n      <td>0.127551</td>\n      <td>0.127551</td>\n      <td>0.127551</td>\n      <td>0.127551</td>\n    </tr>\n    <tr>\n      <th>곡물</th>\n      <td>0.000000</td>\n      <td>0.250000</td>\n      <td>0.250000</td>\n      <td>0.000000</td>\n      <td>0.000000</td>\n      <td>0.000000</td>\n      <td>0.000000</td>\n      <td>0.000000</td>\n      <td>0.000000</td>\n      <td>0.000000</td>\n      <td>...</td>\n      <td>0.000000</td>\n      <td>0.000000</td>\n      <td>0.000000</td>\n      <td>0.000000</td>\n      <td>0.000000</td>\n      <td>0.250000</td>\n      <td>0.000000</td>\n      <td>0.000000</td>\n      <td>0.000000</td>\n      <td>0.000000</td>\n    </tr>\n    <tr>\n      <th>언더웨어</th>\n      <td>0.000000</td>\n      <td>0.000000</td>\n      <td>0.000000</td>\n      <td>0.000000</td>\n      <td>0.000000</td>\n      <td>0.000000</td>\n      <td>0.000000</td>\n      <td>0.000000</td>\n      <td>0.000000</td>\n      <td>0.200000</td>\n      <td>...</td>\n      <td>0.000000</td>\n      <td>0.000000</td>\n      <td>0.200000</td>\n      <td>0.000000</td>\n      <td>0.000000</td>\n      <td>0.200000</td>\n      <td>0.000000</td>\n      <td>0.000000</td>\n      <td>0.000000</td>\n      <td>0.000000</td>\n    </tr>\n    <tr>\n      <th>스포츠</th>\n      <td>0.000000</td>\n      <td>0.000000</td>\n      <td>0.000000</td>\n      <td>0.000000</td>\n      <td>0.000000</td>\n      <td>0.000000</td>\n      <td>0.000000</td>\n      <td>0.000000</td>\n      <td>0.000000</td>\n      <td>0.000000</td>\n      <td>...</td>\n      <td>0.000000</td>\n      <td>0.000000</td>\n      <td>0.000000</td>\n      <td>0.000000</td>\n      <td>0.000000</td>\n      <td>0.500000</td>\n      <td>0.000000</td>\n      <td>0.000000</td>\n      <td>0.000000</td>\n      <td>0.500000</td>\n    </tr>\n    <tr>\n      <th>문구</th>\n      <td>0.000000</td>\n      <td>0.000000</td>\n      <td>0.000000</td>\n      <td>0.000000</td>\n      <td>0.000000</td>\n      <td>0.000000</td>\n      <td>0.000000</td>\n      <td>0.000000</td>\n      <td>0.000000</td>\n      <td>0.000000</td>\n      <td>...</td>\n      <td>0.000000</td>\n      <td>0.000000</td>\n      <td>0.000000</td>\n      <td>0.000000</td>\n      <td>0.331104</td>\n      <td>0.334448</td>\n      <td>0.000000</td>\n      <td>0.000000</td>\n      <td>0.334448</td>\n      <td>0.000000</td>\n    </tr>\n  </tbody>\n</table>\n<p>29 rows × 29 columns</p>\n</div>"
     },
     "metadata": {},
     "execution_count": 17
    }
   ],
   "source": [
    "trans_matrix"
   ]
  },
  {
   "cell_type": "code",
   "execution_count": null,
   "metadata": {},
   "outputs": [],
   "source": []
  }
 ]
}